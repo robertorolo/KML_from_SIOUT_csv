{
 "cells": [
  {
   "cell_type": "code",
   "execution_count": 1,
   "metadata": {},
   "outputs": [],
   "source": [
    "import pandas as pd\n",
    "from pykml.factory import KML_ElementMaker as KML\n",
    "from lxml import etree"
   ]
  },
  {
   "cell_type": "code",
   "execution_count": 2,
   "metadata": {},
   "outputs": [],
   "source": [
    "filename = 'processos_fisicos.xlsx'"
   ]
  },
  {
   "cell_type": "code",
   "execution_count": 3,
   "metadata": {},
   "outputs": [],
   "source": [
    "df = pd.read_excel(io=filename)"
   ]
  },
  {
   "cell_type": "code",
   "execution_count": 4,
   "metadata": {},
   "outputs": [
    {
     "data": {
      "text/html": [
       "<div>\n",
       "<style scoped>\n",
       "    .dataframe tbody tr th:only-of-type {\n",
       "        vertical-align: middle;\n",
       "    }\n",
       "\n",
       "    .dataframe tbody tr th {\n",
       "        vertical-align: top;\n",
       "    }\n",
       "\n",
       "    .dataframe thead th {\n",
       "        text-align: right;\n",
       "    }\n",
       "</style>\n",
       "<table border=\"1\" class=\"dataframe\">\n",
       "  <thead>\n",
       "    <tr style=\"text-align: right;\">\n",
       "      <th></th>\n",
       "      <th>Processo</th>\n",
       "      <th>Tipo</th>\n",
       "      <th>Nome</th>\n",
       "      <th>Latitude</th>\n",
       "      <th>Longitude</th>\n",
       "      <th>Obs</th>\n",
       "    </tr>\n",
       "  </thead>\n",
       "  <tbody>\n",
       "    <tr>\n",
       "      <th>0</th>\n",
       "      <td>44860500030</td>\n",
       "      <td>CGH</td>\n",
       "      <td>Usina do Poço</td>\n",
       "      <td>-28.1308</td>\n",
       "      <td>-51.6281</td>\n",
       "      <td>2016</td>\n",
       "    </tr>\n",
       "    <tr>\n",
       "      <th>1</th>\n",
       "      <td>23390567107</td>\n",
       "      <td>CGH</td>\n",
       "      <td>Toca</td>\n",
       "      <td>-29.2885</td>\n",
       "      <td>-50.7406</td>\n",
       "      <td>2016</td>\n",
       "    </tr>\n",
       "    <tr>\n",
       "      <th>2</th>\n",
       "      <td>30730500057</td>\n",
       "      <td>CGH</td>\n",
       "      <td>Taipinha</td>\n",
       "      <td>-28.9231</td>\n",
       "      <td>-52.5067</td>\n",
       "      <td>2016</td>\n",
       "    </tr>\n",
       "    <tr>\n",
       "      <th>3</th>\n",
       "      <td>120750500035</td>\n",
       "      <td>CGH</td>\n",
       "      <td>Soledade</td>\n",
       "      <td>-28.9372</td>\n",
       "      <td>-52.4846</td>\n",
       "      <td>2016</td>\n",
       "    </tr>\n",
       "    <tr>\n",
       "      <th>4</th>\n",
       "      <td>108000500056</td>\n",
       "      <td>CGH</td>\n",
       "      <td>N/D</td>\n",
       "      <td>-29.6892</td>\n",
       "      <td>-55.4108</td>\n",
       "      <td>2016</td>\n",
       "    </tr>\n",
       "  </tbody>\n",
       "</table>\n",
       "</div>"
      ],
      "text/plain": [
       "       Processo Tipo           Nome Latitude Longitude   Obs\n",
       "0   44860500030  CGH  Usina do Poço -28.1308  -51.6281  2016\n",
       "1   23390567107  CGH           Toca -29.2885  -50.7406  2016\n",
       "2   30730500057  CGH       Taipinha -28.9231  -52.5067  2016\n",
       "3  120750500035  CGH       Soledade -28.9372  -52.4846  2016\n",
       "4  108000500056  CGH            N/D -29.6892  -55.4108  2016"
      ]
     },
     "execution_count": 4,
     "metadata": {},
     "output_type": "execute_result"
    }
   ],
   "source": [
    "df.head()"
   ]
  },
  {
   "cell_type": "code",
   "execution_count": 5,
   "metadata": {},
   "outputs": [],
   "source": [
    "doc = KML.Document()"
   ]
  },
  {
   "cell_type": "code",
   "execution_count": 6,
   "metadata": {},
   "outputs": [],
   "source": [
    "icons = {\n",
    "    'branco':'http://maps.google.com/mapfiles/kml/pushpin/wht-pushpin.png',\n",
    "}\n",
    "\n",
    "s = KML.Style(\n",
    "        KML.IconStyle(\n",
    "            KML.Icon(\n",
    "                KML.href(icons['branco'])\n",
    "            ),\n",
    "        ),\n",
    "        id='estilo',\n",
    "    )\n",
    "\n",
    "doc.append(s)"
   ]
  },
  {
   "cell_type": "code",
   "execution_count": 7,
   "metadata": {},
   "outputs": [],
   "source": [
    "import re\n",
    "def conversion(coord):\n",
    "    deg, minutes, seconds, direction =  re.split('[°\\'\"]', coord)\n",
    "    return (float(deg) + float(minutes)/60 + float(seconds)/(60*60)) * (-1 if direction in ['W', 'S'] else 1)"
   ]
  },
  {
   "cell_type": "code",
   "execution_count": 8,
   "metadata": {},
   "outputs": [],
   "source": [
    "for index, row in df.iterrows():\n",
    "    name = row['Tipo']+' '+row['Nome']\n",
    "    processo = row['Processo']\n",
    "    tipo = row['Tipo']\n",
    "    description = '''\n",
    "Processo: {}\n",
    "Tipo: {}\n",
    "    '''.format(processo, tipo)\n",
    "    lat = row['Latitude']\n",
    "    long = row['Longitude']\n",
    "    if isinstance(lat, str):\n",
    "        lat = conversion(lat)\n",
    "        long = conversion(long)\n",
    "    coordinates = str(long)+','+str(lat)\n",
    "        \n",
    "    p = KML.Placemark(\n",
    "        KML.name(name),\n",
    "        KML.Point(KML.coordinates(coordinates)),\n",
    "        KML.description(description),\n",
    "        KML.styleUrl('#estilo'))\n",
    "     \n",
    "    doc.append(p)"
   ]
  },
  {
   "cell_type": "code",
   "execution_count": 9,
   "metadata": {},
   "outputs": [],
   "source": [
    "kml_file_path = 'hidreletricas_fisicos.kml'"
   ]
  },
  {
   "cell_type": "code",
   "execution_count": 10,
   "metadata": {},
   "outputs": [],
   "source": [
    "kml_str = etree.tostring(doc, pretty_print=True).decode('utf-8')"
   ]
  },
  {
   "cell_type": "code",
   "execution_count": 11,
   "metadata": {},
   "outputs": [],
   "source": [
    "f = open(kml_file_path, \"w\")\n",
    "f.write(kml_str)\n",
    "f.close()"
   ]
  }
 ],
 "metadata": {
  "kernelspec": {
   "display_name": "Python 3",
   "language": "python",
   "name": "python3"
  },
  "language_info": {
   "codemirror_mode": {
    "name": "ipython",
    "version": 3
   },
   "file_extension": ".py",
   "mimetype": "text/x-python",
   "name": "python",
   "nbconvert_exporter": "python",
   "pygments_lexer": "ipython3",
   "version": "3.7.7"
  }
 },
 "nbformat": 4,
 "nbformat_minor": 4
}