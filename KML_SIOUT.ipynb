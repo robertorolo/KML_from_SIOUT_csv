{
 "cells": [
  {
   "cell_type": "code",
   "execution_count": 1,
   "metadata": {},
   "outputs": [],
   "source": [
    "#!pip install pykml\n",
    "#!pip install pyshp"
   ]
  },
  {
   "cell_type": "code",
   "execution_count": 2,
   "metadata": {},
   "outputs": [],
   "source": [
    "import pandas as pd\n",
    "from pykml.factory import KML_ElementMaker as KML\n",
    "from lxml import etree\n",
    "import shapefile as shp\n",
    "import matplotlib.pyplot as plt\n",
    "import numpy as np"
   ]
  },
  {
   "cell_type": "code",
   "execution_count": 3,
   "metadata": {},
   "outputs": [],
   "source": [
    "file_name = 'relatorio_651.csv'"
   ]
  },
  {
   "cell_type": "code",
   "execution_count": 4,
   "metadata": {},
   "outputs": [],
   "source": [
    "df = pd.read_csv(filepath_or_buffer=file_name, sep=';', encoding= 'unicode_escape')"
   ]
  },
  {
   "cell_type": "code",
   "execution_count": 5,
   "metadata": {},
   "outputs": [],
   "source": [
    "filtro_intervencao = df['Tipo de Intervenção'] == 'Cadastro apenas da barragem'\n",
    "filtro_status1 = df['Status'] != 'Concluído'\n",
    "filtro_status2 = df['Status'] != 'Desativado'\n",
    "filtro_status3 = df['Status'] != 'Em andamento'"
   ]
  },
  {
   "cell_type": "code",
   "execution_count": 6,
   "metadata": {},
   "outputs": [],
   "source": [
    "df_filtrado = df[filtro_status1 & filtro_status2 & filtro_status3 & filtro_intervencao]"
   ]
  },
  {
   "cell_type": "code",
   "execution_count": 7,
   "metadata": {},
   "outputs": [
    {
     "data": {
      "text/plain": [
       "(89, 54)"
      ]
     },
     "execution_count": 7,
     "metadata": {},
     "output_type": "execute_result"
    }
   ],
   "source": [
    "df_filtrado.shape"
   ]
  },
  {
   "cell_type": "code",
   "execution_count": 8,
   "metadata": {},
   "outputs": [
    {
     "data": {
      "text/html": [
       "<div>\n",
       "<style scoped>\n",
       "    .dataframe tbody tr th:only-of-type {\n",
       "        vertical-align: middle;\n",
       "    }\n",
       "\n",
       "    .dataframe tbody tr th {\n",
       "        vertical-align: top;\n",
       "    }\n",
       "\n",
       "    .dataframe thead th {\n",
       "        text-align: right;\n",
       "    }\n",
       "</style>\n",
       "<table border=\"1\" class=\"dataframe\">\n",
       "  <thead>\n",
       "    <tr style=\"text-align: right;\">\n",
       "      <th></th>\n",
       "      <th>Número do cadastro</th>\n",
       "      <th>Número da portaria</th>\n",
       "      <th>Nome do usuário de água</th>\n",
       "      <th>CPF/CNPJ</th>\n",
       "      <th>Natureza da intervenção</th>\n",
       "      <th>Tipo da Fonte de Captação</th>\n",
       "      <th>Tipo de Intervenção</th>\n",
       "      <th>Classificação</th>\n",
       "      <th>Status</th>\n",
       "      <th>Observação</th>\n",
       "      <th>...</th>\n",
       "      <th>Nº da licença</th>\n",
       "      <th>Nome do responsável técnico</th>\n",
       "      <th>CPF do responsável técnico</th>\n",
       "      <th>Formação do responsável técnico</th>\n",
       "      <th>Número da ART do responsável técnico</th>\n",
       "      <th>Nome da Geometria</th>\n",
       "      <th>Latitude</th>\n",
       "      <th>Longitude</th>\n",
       "      <th>Latitude (ponto final)</th>\n",
       "      <th>Longitude (ponto final)</th>\n",
       "    </tr>\n",
       "  </thead>\n",
       "  <tbody>\n",
       "    <tr>\n",
       "      <th>1</th>\n",
       "      <td>2020/005.099</td>\n",
       "      <td>-</td>\n",
       "      <td>BT GERADORA DE ENERGIA ELETRICA S.A.</td>\n",
       "      <td>03.149.173/0001-64</td>\n",
       "      <td>Água Superficial</td>\n",
       "      <td>Barragem de nível</td>\n",
       "      <td>Cadastro apenas da barragem</td>\n",
       "      <td>Cadastro</td>\n",
       "      <td>Aguardando análise</td>\n",
       "      <td>-</td>\n",
       "      <td>...</td>\n",
       "      <td>-</td>\n",
       "      <td>Karl Rischbieter</td>\n",
       "      <td>003.791.409-00</td>\n",
       "      <td>Engenharia Elétrica</td>\n",
       "      <td>2102702-0</td>\n",
       "      <td>Ponto 1</td>\n",
       "      <td>-53,5789</td>\n",
       "      <td>-27,5612</td>\n",
       "      <td>-</td>\n",
       "      <td>-</td>\n",
       "    </tr>\n",
       "    <tr>\n",
       "      <th>7</th>\n",
       "      <td>2020/002.866</td>\n",
       "      <td>-</td>\n",
       "      <td>LINHA ONZE OESTE ENERGIA LTDA</td>\n",
       "      <td>27.059.624/0001-30</td>\n",
       "      <td>Água Superficial</td>\n",
       "      <td>Barragem de nível</td>\n",
       "      <td>Cadastro apenas da barragem</td>\n",
       "      <td>Cadastro</td>\n",
       "      <td>Aguardando formalização de documentos</td>\n",
       "      <td>-</td>\n",
       "      <td>...</td>\n",
       "      <td>-</td>\n",
       "      <td>Daniel Zonta</td>\n",
       "      <td>008.515.139-48</td>\n",
       "      <td>Engenharia Civil</td>\n",
       "      <td>-</td>\n",
       "      <td>Ponto 1</td>\n",
       "      <td>-54,0045500199785</td>\n",
       "      <td>-28,3511124417778</td>\n",
       "      <td>-</td>\n",
       "      <td>-</td>\n",
       "    </tr>\n",
       "    <tr>\n",
       "      <th>8</th>\n",
       "      <td>2020/002.683</td>\n",
       "      <td>-</td>\n",
       "      <td>Cooperativa de Geração de Energia e Desenvolvi...</td>\n",
       "      <td>08.290.060/0001-06</td>\n",
       "      <td>Água Superficial</td>\n",
       "      <td>Barragem de nível</td>\n",
       "      <td>Cadastro apenas da barragem</td>\n",
       "      <td>Cadastro</td>\n",
       "      <td>Aguardando formalização de documentos</td>\n",
       "      <td>-</td>\n",
       "      <td>...</td>\n",
       "      <td>-</td>\n",
       "      <td>Karl Rischbieter</td>\n",
       "      <td>003.791.409-00</td>\n",
       "      <td>Engenharia Elétrica</td>\n",
       "      <td>9335010033</td>\n",
       "      <td>Ponto 1</td>\n",
       "      <td>-53,9701307613505</td>\n",
       "      <td>-27,9612491935233</td>\n",
       "      <td>-</td>\n",
       "      <td>-</td>\n",
       "    </tr>\n",
       "    <tr>\n",
       "      <th>12</th>\n",
       "      <td>2020/001.754</td>\n",
       "      <td>-</td>\n",
       "      <td>BORTOLON AGROCOMERCIAL EIRELI</td>\n",
       "      <td>00.376.956/0001-92</td>\n",
       "      <td>Água Superficial</td>\n",
       "      <td>Barragem de acumulação</td>\n",
       "      <td>Cadastro apenas da barragem</td>\n",
       "      <td>Cadastro</td>\n",
       "      <td>Em análise</td>\n",
       "      <td>-</td>\n",
       "      <td>...</td>\n",
       "      <td>-</td>\n",
       "      <td>Edesio Alvaro Bortolon</td>\n",
       "      <td>385.825.890-34</td>\n",
       "      <td>Engenharia Civil</td>\n",
       "      <td>-</td>\n",
       "      <td>Ponto 1</td>\n",
       "      <td>-50,8559701377817</td>\n",
       "      <td>-28,2990821433521</td>\n",
       "      <td>-</td>\n",
       "      <td>-</td>\n",
       "    </tr>\n",
       "    <tr>\n",
       "      <th>13</th>\n",
       "      <td>2020/001.523</td>\n",
       "      <td>-</td>\n",
       "      <td>ENERBIO SERVICOS DE ENGENHARIA LTDA</td>\n",
       "      <td>05.385.865/0001-37</td>\n",
       "      <td>Água Superficial</td>\n",
       "      <td>Barragem de nível</td>\n",
       "      <td>Cadastro apenas da barragem</td>\n",
       "      <td>Cadastro</td>\n",
       "      <td>Em análise</td>\n",
       "      <td>-</td>\n",
       "      <td>...</td>\n",
       "      <td>-</td>\n",
       "      <td>Luiz Antonio Leão</td>\n",
       "      <td>306.586.160-72</td>\n",
       "      <td>Engenharia Mecânica</td>\n",
       "      <td>-</td>\n",
       "      <td>Ponto 1</td>\n",
       "      <td>-53,5472</td>\n",
       "      <td>-27,4186</td>\n",
       "      <td>-</td>\n",
       "      <td>-</td>\n",
       "    </tr>\n",
       "  </tbody>\n",
       "</table>\n",
       "<p>5 rows × 54 columns</p>\n",
       "</div>"
      ],
      "text/plain": [
       "   Número do cadastro Número da portaria  \\\n",
       "1        2020/005.099                  -   \n",
       "7        2020/002.866                  -   \n",
       "8        2020/002.683                  -   \n",
       "12       2020/001.754                  -   \n",
       "13       2020/001.523                  -   \n",
       "\n",
       "                              Nome do usuário de água            CPF/CNPJ  \\\n",
       "1                BT GERADORA DE ENERGIA ELETRICA S.A.  03.149.173/0001-64   \n",
       "7                       LINHA ONZE OESTE ENERGIA LTDA  27.059.624/0001-30   \n",
       "8   Cooperativa de Geração de Energia e Desenvolvi...  08.290.060/0001-06   \n",
       "12                      BORTOLON AGROCOMERCIAL EIRELI  00.376.956/0001-92   \n",
       "13                ENERBIO SERVICOS DE ENGENHARIA LTDA  05.385.865/0001-37   \n",
       "\n",
       "   Natureza da intervenção Tipo da Fonte de Captação  \\\n",
       "1         Água Superficial         Barragem de nível   \n",
       "7         Água Superficial         Barragem de nível   \n",
       "8         Água Superficial         Barragem de nível   \n",
       "12        Água Superficial    Barragem de acumulação   \n",
       "13        Água Superficial         Barragem de nível   \n",
       "\n",
       "            Tipo de Intervenção Classificação  \\\n",
       "1   Cadastro apenas da barragem      Cadastro   \n",
       "7   Cadastro apenas da barragem      Cadastro   \n",
       "8   Cadastro apenas da barragem      Cadastro   \n",
       "12  Cadastro apenas da barragem      Cadastro   \n",
       "13  Cadastro apenas da barragem      Cadastro   \n",
       "\n",
       "                                   Status Observação  ... Nº da licença  \\\n",
       "1                      Aguardando análise          -  ...             -   \n",
       "7   Aguardando formalização de documentos          -  ...             -   \n",
       "8   Aguardando formalização de documentos          -  ...             -   \n",
       "12                             Em análise          -  ...             -   \n",
       "13                             Em análise          -  ...             -   \n",
       "\n",
       "   Nome do responsável técnico CPF do responsável técnico  \\\n",
       "1             Karl Rischbieter             003.791.409-00   \n",
       "7                 Daniel Zonta             008.515.139-48   \n",
       "8             Karl Rischbieter             003.791.409-00   \n",
       "12      Edesio Alvaro Bortolon             385.825.890-34   \n",
       "13           Luiz Antonio Leão             306.586.160-72   \n",
       "\n",
       "   Formação do responsável técnico Número da ART do responsável técnico  \\\n",
       "1              Engenharia Elétrica                            2102702-0   \n",
       "7                 Engenharia Civil                                    -   \n",
       "8              Engenharia Elétrica                           9335010033   \n",
       "12                Engenharia Civil                                    -   \n",
       "13             Engenharia Mecânica                                    -   \n",
       "\n",
       "   Nome da Geometria           Latitude          Longitude  \\\n",
       "1            Ponto 1           -53,5789           -27,5612   \n",
       "7            Ponto 1  -54,0045500199785  -28,3511124417778   \n",
       "8            Ponto 1  -53,9701307613505  -27,9612491935233   \n",
       "12           Ponto 1  -50,8559701377817  -28,2990821433521   \n",
       "13           Ponto 1           -53,5472           -27,4186   \n",
       "\n",
       "   Latitude (ponto final) Longitude (ponto final)  \n",
       "1                       -                       -  \n",
       "7                       -                       -  \n",
       "8                       -                       -  \n",
       "12                      -                       -  \n",
       "13                      -                       -  \n",
       "\n",
       "[5 rows x 54 columns]"
      ]
     },
     "execution_count": 8,
     "metadata": {},
     "output_type": "execute_result"
    }
   ],
   "source": [
    "df_filtrado.head()"
   ]
  },
  {
   "cell_type": "code",
   "execution_count": 9,
   "metadata": {},
   "outputs": [
    {
     "data": {
      "text/plain": [
       "array(['Aguardando análise', 'Aguardando formalização de documentos',\n",
       "       'Em análise', 'Aguardando alterações de dados inconsistentes',\n",
       "       'Concedida', 'Indeferida'], dtype=object)"
      ]
     },
     "execution_count": 9,
     "metadata": {},
     "output_type": "execute_result"
    }
   ],
   "source": [
    "df_filtrado['Status'].unique()"
   ]
  },
  {
   "cell_type": "code",
   "execution_count": 10,
   "metadata": {},
   "outputs": [
    {
     "data": {
      "text/html": [
       "<div>\n",
       "<style scoped>\n",
       "    .dataframe tbody tr th:only-of-type {\n",
       "        vertical-align: middle;\n",
       "    }\n",
       "\n",
       "    .dataframe tbody tr th {\n",
       "        vertical-align: top;\n",
       "    }\n",
       "\n",
       "    .dataframe thead th {\n",
       "        text-align: right;\n",
       "    }\n",
       "</style>\n",
       "<table border=\"1\" class=\"dataframe\">\n",
       "  <thead>\n",
       "    <tr style=\"text-align: right;\">\n",
       "      <th></th>\n",
       "      <th>Número do cadastro</th>\n",
       "      <th>Nome do usuário de água</th>\n",
       "      <th>Data de início do cadastro</th>\n",
       "      <th>Data de saída do processo</th>\n",
       "    </tr>\n",
       "  </thead>\n",
       "  <tbody>\n",
       "    <tr>\n",
       "      <th>1</th>\n",
       "      <td>2020/005.099</td>\n",
       "      <td>BT GERADORA DE ENERGIA ELETRICA S.A.</td>\n",
       "      <td>2020-03-27</td>\n",
       "      <td>2020-03-30</td>\n",
       "    </tr>\n",
       "    <tr>\n",
       "      <th>36</th>\n",
       "      <td>2019/023.469</td>\n",
       "      <td>ENERBIO SERVICOS DE ENGENHARIA LTDA</td>\n",
       "      <td>2019-11-25</td>\n",
       "      <td>2020-04-15</td>\n",
       "    </tr>\n",
       "    <tr>\n",
       "      <th>315</th>\n",
       "      <td>2016/013.809</td>\n",
       "      <td>Hidroelétrica Sperotto Queda do Turvo Ltda</td>\n",
       "      <td>2016-08-23</td>\n",
       "      <td>2020-04-13</td>\n",
       "    </tr>\n",
       "  </tbody>\n",
       "</table>\n",
       "</div>"
      ],
      "text/plain": [
       "    Número do cadastro                     Nome do usuário de água  \\\n",
       "1         2020/005.099        BT GERADORA DE ENERGIA ELETRICA S.A.   \n",
       "36        2019/023.469         ENERBIO SERVICOS DE ENGENHARIA LTDA   \n",
       "315       2016/013.809  Hidroelétrica Sperotto Queda do Turvo Ltda   \n",
       "\n",
       "    Data de início do cadastro Data de saída do processo  \n",
       "1                   2020-03-27                2020-03-30  \n",
       "36                  2019-11-25                2020-04-15  \n",
       "315                 2016-08-23                2020-04-13  "
      ]
     },
     "execution_count": 10,
     "metadata": {},
     "output_type": "execute_result"
    }
   ],
   "source": [
    "aguardando = df_filtrado[df_filtrado['Status'] == 'Aguardando análise'][['Número do cadastro', 'Nome do usuário de água', 'Data de início do cadastro', 'Data de saída do processo']]\n",
    "aguardando['Data de saída do processo'] = pd.to_datetime(aguardando['Data de saída do processo'], dayfirst=True)\n",
    "aguardando['Data de início do cadastro'] = pd.to_datetime(aguardando['Data de início do cadastro'], dayfirst=True)\n",
    "aguardando.sort_values('Data de saída do processo')\n",
    "aguardando.to_csv('aguardando_analise.csv', index=False)\n",
    "aguardando"
   ]
  },
  {
   "cell_type": "code",
   "execution_count": 11,
   "metadata": {},
   "outputs": [
    {
     "data": {
      "text/html": [
       "<div>\n",
       "<style scoped>\n",
       "    .dataframe tbody tr th:only-of-type {\n",
       "        vertical-align: middle;\n",
       "    }\n",
       "\n",
       "    .dataframe tbody tr th {\n",
       "        vertical-align: top;\n",
       "    }\n",
       "\n",
       "    .dataframe thead th {\n",
       "        text-align: right;\n",
       "    }\n",
       "</style>\n",
       "<table border=\"1\" class=\"dataframe\">\n",
       "  <thead>\n",
       "    <tr style=\"text-align: right;\">\n",
       "      <th></th>\n",
       "      <th>Número do cadastro</th>\n",
       "      <th>Nome do usuário de água</th>\n",
       "      <th>Data de início do cadastro</th>\n",
       "      <th>Data de saída do processo</th>\n",
       "    </tr>\n",
       "  </thead>\n",
       "  <tbody>\n",
       "    <tr>\n",
       "      <th>12</th>\n",
       "      <td>2020/001.754</td>\n",
       "      <td>BORTOLON AGROCOMERCIAL EIRELI</td>\n",
       "      <td>2020-01-31</td>\n",
       "      <td>2020-04-06</td>\n",
       "    </tr>\n",
       "    <tr>\n",
       "      <th>13</th>\n",
       "      <td>2020/001.523</td>\n",
       "      <td>ENERBIO SERVICOS DE ENGENHARIA LTDA</td>\n",
       "      <td>2020-01-28</td>\n",
       "      <td>2020-04-09</td>\n",
       "    </tr>\n",
       "    <tr>\n",
       "      <th>27</th>\n",
       "      <td>2019/025.605</td>\n",
       "      <td>CONSTRUNÍVEL ENERGIAS RENOVÁVEIS LTDA</td>\n",
       "      <td>2019-12-17</td>\n",
       "      <td>2020-04-08</td>\n",
       "    </tr>\n",
       "    <tr>\n",
       "      <th>45</th>\n",
       "      <td>2019/020.046</td>\n",
       "      <td>Vertente Engenharia Ltda</td>\n",
       "      <td>2019-10-15</td>\n",
       "      <td>2020-04-14</td>\n",
       "    </tr>\n",
       "    <tr>\n",
       "      <th>75</th>\n",
       "      <td>2019/009.268</td>\n",
       "      <td>RIO DO FRADE GERAÇÃO DE ENERGIA LTDA</td>\n",
       "      <td>2019-05-27</td>\n",
       "      <td>2019-08-02</td>\n",
       "    </tr>\n",
       "    <tr>\n",
       "      <th>94</th>\n",
       "      <td>2019/005.142</td>\n",
       "      <td>TOUROS IV ENERGÉTICA S.A.</td>\n",
       "      <td>2019-04-01</td>\n",
       "      <td>2020-02-14</td>\n",
       "    </tr>\n",
       "    <tr>\n",
       "      <th>143</th>\n",
       "      <td>2018/033.655</td>\n",
       "      <td>Pablo Rodrigo Ferreira Romeiro</td>\n",
       "      <td>2018-12-03</td>\n",
       "      <td>2020-04-14</td>\n",
       "    </tr>\n",
       "    <tr>\n",
       "      <th>144</th>\n",
       "      <td>2018/033.376</td>\n",
       "      <td>Agropecuaria Fockink Ltda</td>\n",
       "      <td>2018-11-29</td>\n",
       "      <td>2020-01-07</td>\n",
       "    </tr>\n",
       "    <tr>\n",
       "      <th>270</th>\n",
       "      <td>2017/030.507</td>\n",
       "      <td>Aecogeo Soluções Ambientais Ltda</td>\n",
       "      <td>2017-09-28</td>\n",
       "      <td>2020-04-15</td>\n",
       "    </tr>\n",
       "  </tbody>\n",
       "</table>\n",
       "</div>"
      ],
      "text/plain": [
       "    Número do cadastro                Nome do usuário de água  \\\n",
       "12        2020/001.754          BORTOLON AGROCOMERCIAL EIRELI   \n",
       "13        2020/001.523    ENERBIO SERVICOS DE ENGENHARIA LTDA   \n",
       "27        2019/025.605  CONSTRUNÍVEL ENERGIAS RENOVÁVEIS LTDA   \n",
       "45        2019/020.046               Vertente Engenharia Ltda   \n",
       "75        2019/009.268   RIO DO FRADE GERAÇÃO DE ENERGIA LTDA   \n",
       "94        2019/005.142              TOUROS IV ENERGÉTICA S.A.   \n",
       "143       2018/033.655         Pablo Rodrigo Ferreira Romeiro   \n",
       "144       2018/033.376              Agropecuaria Fockink Ltda   \n",
       "270       2017/030.507       Aecogeo Soluções Ambientais Ltda   \n",
       "\n",
       "    Data de início do cadastro Data de saída do processo  \n",
       "12                  2020-01-31                2020-04-06  \n",
       "13                  2020-01-28                2020-04-09  \n",
       "27                  2019-12-17                2020-04-08  \n",
       "45                  2019-10-15                2020-04-14  \n",
       "75                  2019-05-27                2019-08-02  \n",
       "94                  2019-04-01                2020-02-14  \n",
       "143                 2018-12-03                2020-04-14  \n",
       "144                 2018-11-29                2020-01-07  \n",
       "270                 2017-09-28                2020-04-15  "
      ]
     },
     "execution_count": 11,
     "metadata": {},
     "output_type": "execute_result"
    }
   ],
   "source": [
    "aguardando = df_filtrado[df_filtrado['Status'] == 'Em análise'][['Número do cadastro', 'Nome do usuário de água', 'Data de início do cadastro', 'Data de saída do processo']]\n",
    "aguardando['Data de saída do processo'] = pd.to_datetime(aguardando['Data de saída do processo'], dayfirst=True)\n",
    "aguardando['Data de início do cadastro'] = pd.to_datetime(aguardando['Data de início do cadastro'], dayfirst=True)\n",
    "aguardando.sort_values('Data de saída do processo')\n",
    "aguardando.to_csv('aguardando_analise.csv', index=False)\n",
    "aguardando"
   ]
  },
  {
   "cell_type": "code",
   "execution_count": 12,
   "metadata": {},
   "outputs": [],
   "source": [
    "shp_path = \"estados_2010.shp\"\n",
    "sf = shp.Reader(shp_path)"
   ]
  },
  {
   "cell_type": "code",
   "execution_count": 13,
   "metadata": {},
   "outputs": [
    {
     "data": {
      "text/plain": [
       "Record #22: [23, 'Rio Grande do Sul', 'RS', '1', '43']"
      ]
     },
     "execution_count": 13,
     "metadata": {},
     "output_type": "execute_result"
    }
   ],
   "source": [
    "sf.records()[22]"
   ]
  },
  {
   "cell_type": "code",
   "execution_count": 14,
   "metadata": {},
   "outputs": [],
   "source": [
    "def plot_shape(idt, ax, sf):\n",
    "    shape_ex = sf.shape(idt)\n",
    "    x_lon = np.zeros((len(shape_ex.points),1))\n",
    "    y_lat = np.zeros((len(shape_ex.points),1))\n",
    "    for ip in range(len(shape_ex.points)):\n",
    "        x_lon[ip] = shape_ex.points[ip][0]\n",
    "        y_lat[ip] = shape_ex.points[ip][1]\n",
    "    ax.plot(x_lon,y_lat,c='gray') \n",
    "    x0 = np.mean(x_lon)\n",
    "    y0 = np.mean(y_lat)"
   ]
  },
  {
   "cell_type": "code",
   "execution_count": 15,
   "metadata": {},
   "outputs": [],
   "source": [
    "pie_dict = {}\n",
    "for s in df_filtrado['Status'].unique():\n",
    "    ns = sum(df_filtrado['Status'] == s)\n",
    "    pie_dict[s] = ns"
   ]
  },
  {
   "cell_type": "code",
   "execution_count": 16,
   "metadata": {},
   "outputs": [
    {
     "data": {
      "image/png": "[encoded data removed]",
      "text/plain": [
       "<Figure size 1296x360 with 2 Axes>"
      ]
     },
     "metadata": {
      "needs_background": "light"
     },
     "output_type": "display_data"
    }
   ],
   "source": [
    "fig, (ax1, ax2) = plt.subplots(1, 2, figsize=(18,5))\n",
    "ax2.pie(pie_dict.values(), autopct='%1.0f', labels=pie_dict.keys())\n",
    "plot_shape(22, ax1, sf)\n",
    "for s in df_filtrado['Status'].unique():\n",
    "    f = df_filtrado['Status'] == s\n",
    "    x, y = df_filtrado[f]['Latitude'].values, df_filtrado[f]['Longitude'].values\n",
    "    x, y = [float(i.replace(',','.')) for i in x], [float(i.replace(',','.')) for i in y]\n",
    "    ax1.scatter(x, y, label = s, marker='x')\n",
    "ax1.axis('scaled')\n",
    "#fig.suptitle('Status dos processos de hidrelétricas do SIOUT')\n",
    "#ax2.legend(loc='upper right')\n",
    "plt.savefig('Status', bbox_inches='tight')"
   ]
  },
  {
   "cell_type": "code",
   "execution_count": 17,
   "metadata": {},
   "outputs": [],
   "source": [
    "doc = KML.Document()"
   ]
  },
  {
   "cell_type": "code",
   "execution_count": 18,
   "metadata": {},
   "outputs": [],
   "source": [
    "icons = {\n",
    "    'verde':'http://maps.google.com/mapfiles/kml/pushpin/grn-pushpin.png',\n",
    "    'amarelo':'http://maps.google.com/mapfiles/kml/pushpin/ylw-pushpin.png',\n",
    "    'vermelho':'http://maps.google.com/mapfiles/kml/pushpin/red-pushpin.png'\n",
    "}"
   ]
  },
  {
   "cell_type": "code",
   "execution_count": 19,
   "metadata": {},
   "outputs": [],
   "source": [
    "for color in icons:\n",
    "    \n",
    "    s = KML.Style(\n",
    "            KML.IconStyle(\n",
    "                KML.scale(1.2),\n",
    "                KML.Icon(\n",
    "                    KML.href(icons[color])\n",
    "                ),\n",
    "            ),\n",
    "            id=color,\n",
    "        )\n",
    "    \n",
    "    doc.append(s)"
   ]
  },
  {
   "cell_type": "code",
   "execution_count": 20,
   "metadata": {},
   "outputs": [],
   "source": [
    "fld_ag_doc = KML.Folder(KML.name('Aguardando formalização de documentos'))\n",
    "fld_ag_an = KML.Folder(KML.name('Aguardando análise'))\n",
    "fld_ag_alt = KML.Folder(KML.name('Aguardando alterações de dados inconsistentes'))\n",
    "fld_an = KML.Folder(KML.name('Em análise'))\n",
    "fld_conc = KML.Folder(KML.name('Concedida'))\n",
    "fld_ind = KML.Folder(KML.name('Indeferida'))"
   ]
  },
  {
   "cell_type": "code",
   "execution_count": 21,
   "metadata": {},
   "outputs": [],
   "source": [
    "for index, row in df_filtrado.iterrows():\n",
    "    name = row['Número do cadastro']\n",
    "    usuario = row['Nome do usuário de água']\n",
    "    status = row['Status']\n",
    "    corpo_hidrico = row['Corpo Hídrico']\n",
    "    municipio = row['Município']\n",
    "    description = '''\n",
    "Usuario: {}\n",
    "Status: {}\n",
    "Municipio: {}\n",
    "Corpo Hidrico: {}\n",
    "    '''.format(usuario, status, municipio, corpo_hidrico)\n",
    "    lat = row['Latitude'].replace(',','.')\n",
    "    long = row['Longitude'].replace(',','.')\n",
    "    coordinates = lat+','+long\n",
    "    \n",
    "    if status == 'Concedida':\n",
    "        style = '#verde'\n",
    "    elif status == 'Indeferida':\n",
    "        style = '#vermelho'\n",
    "    else:\n",
    "        style = '#amarelo'\n",
    "    \n",
    "    p = KML.Placemark(\n",
    "        KML.name(name),\n",
    "        KML.Point(KML.coordinates(coordinates)),\n",
    "        KML.description(description),\n",
    "        KML.styleUrl(style))\n",
    "    \n",
    "    if status == 'Aguardando formalização de documentos':\n",
    "        fld_ag_doc.append(p)\n",
    "    elif status == 'Aguardando análise':\n",
    "        fld_ag_an.append(p)\n",
    "    elif status == 'Aguardando alterações de dados inconsistentes':\n",
    "        fld_ag_alt.append(p)\n",
    "    elif status == 'Em análise':\n",
    "        fld_an.append(p)\n",
    "    elif status == 'Concedida':\n",
    "        fld_conc.append(p)\n",
    "    elif status == 'Indeferida':\n",
    "        fld_ind.append(p)"
   ]
  },
  {
   "cell_type": "code",
   "execution_count": 22,
   "metadata": {},
   "outputs": [],
   "source": [
    "doc.append(fld_ag_doc)\n",
    "doc.append(fld_ag_an)\n",
    "doc.append(fld_ag_alt)\n",
    "doc.append(fld_an)\n",
    "doc.append(fld_conc)\n",
    "doc.append(fld_ind)"
   ]
  },
  {
   "cell_type": "code",
   "execution_count": 23,
   "metadata": {},
   "outputs": [],
   "source": [
    "kml_file_path = 'hidreletricas_SIOUT.kml'"
   ]
  },
  {
   "cell_type": "code",
   "execution_count": 24,
   "metadata": {},
   "outputs": [],
   "source": [
    "kml_str = etree.tostring(doc, pretty_print=True).decode('utf-8')"
   ]
  },
  {
   "cell_type": "code",
   "execution_count": 25,
   "metadata": {},
   "outputs": [],
   "source": [
    "f = open(kml_file_path, \"w\")\n",
    "f.write(kml_str)\n",
    "f.close()"
   ]
  },
  {
   "cell_type": "code",
   "execution_count": null,
   "metadata": {},
   "outputs": [],
   "source": []
  },
  {
   "cell_type": "code",
   "execution_count": null,
   "metadata": {},
   "outputs": [],
   "source": []
  }
 ],
 "metadata": {
  "kernelspec": {
   "display_name": "Python 3",
   "language": "python",
   "name": "python3"
  },
  "language_info": {
   "codemirror_mode": {
    "name": "ipython",
    "version": 3
   },
   "file_extension": ".py",
   "mimetype": "text/x-python",
   "name": "python",
   "nbconvert_exporter": "python",
   "pygments_lexer": "ipython3",
   "version": "3.8.2"
  }
 },
 "nbformat": 4,
 "nbformat_minor": 4
}
