{
 "cells": [
  {
   "cell_type": "code",
   "execution_count": 1,
   "metadata": {},
   "outputs": [],
   "source": [
    "import pandas as pd\n",
    "from pykml.factory import KML_ElementMaker as KML\n",
    "from lxml import etree\n",
    "import shapefile as shp\n",
    "import matplotlib.pyplot as plt\n",
    "import numpy as np"
   ]
  },
  {
   "cell_type": "code",
   "execution_count": 2,
   "metadata": {},
   "outputs": [],
   "source": [
    "file_name = 'relatorio_843.csv'"
   ]
  },
  {
   "cell_type": "code",
   "execution_count": 3,
   "metadata": {},
   "outputs": [],
   "source": [
    "df = pd.read_csv(filepath_or_buffer=file_name, sep=';', encoding= 'unicode_escape')"
   ]
  },
  {
   "cell_type": "code",
   "execution_count": 4,
   "metadata": {},
   "outputs": [],
   "source": [
    "filtro_intervencao = df['Tipo de Intervenção'] == 'Cadastro apenas da barragem'\n",
    "filtro_status1 = df['Status'] != 'Concluído'\n",
    "filtro_status2 = df['Status'] != 'Desativado'\n",
    "filtro_status3 = df['Status'] != 'Em andamento'"
   ]
  },
  {
   "cell_type": "code",
   "execution_count": 5,
   "metadata": {},
   "outputs": [],
   "source": [
    "df_filtrado = df[filtro_status1 & filtro_status2 & filtro_status3 & filtro_intervencao]"
   ]
  },
  {
   "cell_type": "code",
   "execution_count": 6,
   "metadata": {},
   "outputs": [
    {
     "data": {
      "text/plain": [
       "(87, 25)"
      ]
     },
     "execution_count": 6,
     "metadata": {},
     "output_type": "execute_result"
    }
   ],
   "source": [
    "df_filtrado.shape"
   ]
  },
  {
   "cell_type": "code",
   "execution_count": 7,
   "metadata": {},
   "outputs": [
    {
     "data": {
      "text/html": [
       "<div>\n",
       "<style scoped>\n",
       "    .dataframe tbody tr th:only-of-type {\n",
       "        vertical-align: middle;\n",
       "    }\n",
       "\n",
       "    .dataframe tbody tr th {\n",
       "        vertical-align: top;\n",
       "    }\n",
       "\n",
       "    .dataframe thead th {\n",
       "        text-align: right;\n",
       "    }\n",
       "</style>\n",
       "<table border=\"1\" class=\"dataframe\">\n",
       "  <thead>\n",
       "    <tr style=\"text-align: right;\">\n",
       "      <th></th>\n",
       "      <th>Número do cadastro</th>\n",
       "      <th>Número da portaria</th>\n",
       "      <th>Nome do usuário de água</th>\n",
       "      <th>Natureza da intervenção</th>\n",
       "      <th>Tipo da Fonte de Captação</th>\n",
       "      <th>Tipo de Intervenção</th>\n",
       "      <th>Classificação</th>\n",
       "      <th>Status</th>\n",
       "      <th>Observação</th>\n",
       "      <th>Data de início do cadastro</th>\n",
       "      <th>...</th>\n",
       "      <th>Finalidades de Uso</th>\n",
       "      <th>Bacia Hidrográfica</th>\n",
       "      <th>Corpo Hídrico</th>\n",
       "      <th>Sistema Aquífero</th>\n",
       "      <th>Município</th>\n",
       "      <th>Nome da Geometria</th>\n",
       "      <th>Latitude</th>\n",
       "      <th>Longitude</th>\n",
       "      <th>Latitude (ponto final)</th>\n",
       "      <th>Longitude (ponto final)</th>\n",
       "    </tr>\n",
       "  </thead>\n",
       "  <tbody>\n",
       "    <tr>\n",
       "      <th>4</th>\n",
       "      <td>2020/002.866</td>\n",
       "      <td>-</td>\n",
       "      <td>LINHA ONZE OESTE ENERGIA LTDA</td>\n",
       "      <td>Água Superficial</td>\n",
       "      <td>Barragem de nível</td>\n",
       "      <td>Cadastro apenas da barragem</td>\n",
       "      <td>Cadastro</td>\n",
       "      <td>Aguardando formalização de documentos</td>\n",
       "      <td>-</td>\n",
       "      <td>19/02/2020</td>\n",
       "      <td>...</td>\n",
       "      <td>Aproveitamento hidrelétrico</td>\n",
       "      <td>Bacia Hidrográfica do Rio Ijuí</td>\n",
       "      <td>Rio Ijuí</td>\n",
       "      <td>-</td>\n",
       "      <td>Coronel Barros</td>\n",
       "      <td>Ponto 1</td>\n",
       "      <td>-54,0045500199785</td>\n",
       "      <td>-28,3511124417778</td>\n",
       "      <td>-</td>\n",
       "      <td>-</td>\n",
       "    </tr>\n",
       "    <tr>\n",
       "      <th>5</th>\n",
       "      <td>2020/002.683</td>\n",
       "      <td>-</td>\n",
       "      <td>Cooperativa de Geração de Energia e Desenvolvi...</td>\n",
       "      <td>Água Superficial</td>\n",
       "      <td>Barragem de nível</td>\n",
       "      <td>Cadastro apenas da barragem</td>\n",
       "      <td>Cadastro</td>\n",
       "      <td>Aguardando formalização de documentos</td>\n",
       "      <td>-</td>\n",
       "      <td>17/02/2020</td>\n",
       "      <td>...</td>\n",
       "      <td>Aproveitamento hidrelétrico</td>\n",
       "      <td>Bacia Hidrográfica dos Rios Turvo - Santa Rosa...</td>\n",
       "      <td>Rio Buricá</td>\n",
       "      <td>-</td>\n",
       "      <td>Chiapetta</td>\n",
       "      <td>Ponto 1</td>\n",
       "      <td>-53,9701307613505</td>\n",
       "      <td>-27,9612491935233</td>\n",
       "      <td>-</td>\n",
       "      <td>-</td>\n",
       "    </tr>\n",
       "    <tr>\n",
       "      <th>9</th>\n",
       "      <td>2020/001.754</td>\n",
       "      <td>-</td>\n",
       "      <td>BORTOLON AGROCOMERCIAL EIRELI</td>\n",
       "      <td>Água Superficial</td>\n",
       "      <td>Barragem de acumulação</td>\n",
       "      <td>Cadastro apenas da barragem</td>\n",
       "      <td>Cadastro</td>\n",
       "      <td>Aguardando análise</td>\n",
       "      <td>-</td>\n",
       "      <td>31/01/2020</td>\n",
       "      <td>...</td>\n",
       "      <td>Aproveitamento hidrelétrico</td>\n",
       "      <td>Bacia Hidrográfica dos Rios Apuaê - Inhandava</td>\n",
       "      <td>Rio Socorro</td>\n",
       "      <td>-</td>\n",
       "      <td>Vacaria</td>\n",
       "      <td>Ponto 1</td>\n",
       "      <td>-50,8559701377817</td>\n",
       "      <td>-28,2990821433521</td>\n",
       "      <td>-</td>\n",
       "      <td>-</td>\n",
       "    </tr>\n",
       "    <tr>\n",
       "      <th>10</th>\n",
       "      <td>2020/001.523</td>\n",
       "      <td>-</td>\n",
       "      <td>ENERBIO SERVICOS DE ENGENHARIA LTDA</td>\n",
       "      <td>Água Superficial</td>\n",
       "      <td>Barragem de nível</td>\n",
       "      <td>Cadastro apenas da barragem</td>\n",
       "      <td>Cadastro</td>\n",
       "      <td>Aguardando análise</td>\n",
       "      <td>-</td>\n",
       "      <td>28/01/2020</td>\n",
       "      <td>...</td>\n",
       "      <td>Aproveitamento hidrelétrico</td>\n",
       "      <td>Bacia Hidrográfica do Rio da Várzea</td>\n",
       "      <td>Rio Fortaleza</td>\n",
       "      <td>-</td>\n",
       "      <td>Erval Seco</td>\n",
       "      <td>Ponto 1</td>\n",
       "      <td>-53,5472</td>\n",
       "      <td>-27,4186</td>\n",
       "      <td>-</td>\n",
       "      <td>-</td>\n",
       "    </tr>\n",
       "    <tr>\n",
       "      <th>19</th>\n",
       "      <td>2020/000.536</td>\n",
       "      <td>-</td>\n",
       "      <td>USINA HIDRELETRICA SUZANA I LTDA</td>\n",
       "      <td>Água Superficial</td>\n",
       "      <td>Barragem de nível</td>\n",
       "      <td>Cadastro apenas da barragem</td>\n",
       "      <td>Cadastro</td>\n",
       "      <td>Aguardando análise</td>\n",
       "      <td>-</td>\n",
       "      <td>13/01/2020</td>\n",
       "      <td>...</td>\n",
       "      <td>Aproveitamento hidrelétrico</td>\n",
       "      <td>Bacia Hidrográfica dos Rios Apuaê - Inhandava</td>\n",
       "      <td>Rio Suzana</td>\n",
       "      <td>-</td>\n",
       "      <td>Gaurama</td>\n",
       "      <td>Centro barramento</td>\n",
       "      <td>-52,082783435041</td>\n",
       "      <td>-27,5152597908802</td>\n",
       "      <td>-</td>\n",
       "      <td>-</td>\n",
       "    </tr>\n",
       "  </tbody>\n",
       "</table>\n",
       "<p>5 rows × 25 columns</p>\n",
       "</div>"
      ],
      "text/plain": [
       "   Número do cadastro Número da portaria  \\\n",
       "4        2020/002.866                  -   \n",
       "5        2020/002.683                  -   \n",
       "9        2020/001.754                  -   \n",
       "10       2020/001.523                  -   \n",
       "19       2020/000.536                  -   \n",
       "\n",
       "                              Nome do usuário de água Natureza da intervenção  \\\n",
       "4                       LINHA ONZE OESTE ENERGIA LTDA        Água Superficial   \n",
       "5   Cooperativa de Geração de Energia e Desenvolvi...        Água Superficial   \n",
       "9                       BORTOLON AGROCOMERCIAL EIRELI        Água Superficial   \n",
       "10                ENERBIO SERVICOS DE ENGENHARIA LTDA        Água Superficial   \n",
       "19                   USINA HIDRELETRICA SUZANA I LTDA        Água Superficial   \n",
       "\n",
       "   Tipo da Fonte de Captação          Tipo de Intervenção Classificação  \\\n",
       "4          Barragem de nível  Cadastro apenas da barragem      Cadastro   \n",
       "5          Barragem de nível  Cadastro apenas da barragem      Cadastro   \n",
       "9     Barragem de acumulação  Cadastro apenas da barragem      Cadastro   \n",
       "10         Barragem de nível  Cadastro apenas da barragem      Cadastro   \n",
       "19         Barragem de nível  Cadastro apenas da barragem      Cadastro   \n",
       "\n",
       "                                   Status Observação  \\\n",
       "4   Aguardando formalização de documentos          -   \n",
       "5   Aguardando formalização de documentos          -   \n",
       "9                      Aguardando análise          -   \n",
       "10                     Aguardando análise          -   \n",
       "19                     Aguardando análise          -   \n",
       "\n",
       "   Data de início do cadastro  ...           Finalidades de Uso  \\\n",
       "4                  19/02/2020  ...  Aproveitamento hidrelétrico   \n",
       "5                  17/02/2020  ...  Aproveitamento hidrelétrico   \n",
       "9                  31/01/2020  ...  Aproveitamento hidrelétrico   \n",
       "10                 28/01/2020  ...  Aproveitamento hidrelétrico   \n",
       "19                 13/01/2020  ...  Aproveitamento hidrelétrico   \n",
       "\n",
       "                                   Bacia Hidrográfica  Corpo Hídrico  \\\n",
       "4                      Bacia Hidrográfica do Rio Ijuí       Rio Ijuí   \n",
       "5   Bacia Hidrográfica dos Rios Turvo - Santa Rosa...     Rio Buricá   \n",
       "9       Bacia Hidrográfica dos Rios Apuaê - Inhandava    Rio Socorro   \n",
       "10                Bacia Hidrográfica do Rio da Várzea  Rio Fortaleza   \n",
       "19      Bacia Hidrográfica dos Rios Apuaê - Inhandava     Rio Suzana   \n",
       "\n",
       "   Sistema Aquífero       Município  Nome da Geometria           Latitude  \\\n",
       "4                 -  Coronel Barros            Ponto 1  -54,0045500199785   \n",
       "5                 -       Chiapetta            Ponto 1  -53,9701307613505   \n",
       "9                 -         Vacaria            Ponto 1  -50,8559701377817   \n",
       "10                -      Erval Seco            Ponto 1           -53,5472   \n",
       "19                -         Gaurama  Centro barramento   -52,082783435041   \n",
       "\n",
       "            Longitude Latitude (ponto final) Longitude (ponto final)  \n",
       "4   -28,3511124417778                      -                       -  \n",
       "5   -27,9612491935233                      -                       -  \n",
       "9   -28,2990821433521                      -                       -  \n",
       "10           -27,4186                      -                       -  \n",
       "19  -27,5152597908802                      -                       -  \n",
       "\n",
       "[5 rows x 25 columns]"
      ]
     },
     "execution_count": 7,
     "metadata": {},
     "output_type": "execute_result"
    }
   ],
   "source": [
    "df_filtrado.head()"
   ]
  },
  {
   "cell_type": "code",
   "execution_count": 8,
   "metadata": {},
   "outputs": [],
   "source": [
    "shp_path = \"estados_2010.shp\"\n",
    "sf = shp.Reader(shp_path)"
   ]
  },
  {
   "cell_type": "code",
   "execution_count": 29,
   "metadata": {},
   "outputs": [
    {
     "data": {
      "text/plain": [
       "Record #22: [23, 'Rio Grande do Sul', 'RS', '1', '43']"
      ]
     },
     "execution_count": 29,
     "metadata": {},
     "output_type": "execute_result"
    }
   ],
   "source": [
    "sf.records()[22]"
   ]
  },
  {
   "cell_type": "code",
   "execution_count": 63,
   "metadata": {},
   "outputs": [],
   "source": [
    "def plot_shape(idt, ax):\n",
    "    shape_ex = sf.shape(idt)\n",
    "    x_lon = np.zeros((len(shape_ex.points),1))\n",
    "    y_lat = np.zeros((len(shape_ex.points),1))\n",
    "    for ip in range(len(shape_ex.points)):\n",
    "        x_lon[ip] = shape_ex.points[ip][0]\n",
    "        y_lat[ip] = shape_ex.points[ip][1]\n",
    "    ax.plot(x_lon,y_lat,c='gray') \n",
    "    x0 = np.mean(x_lon)\n",
    "    y0 = np.mean(y_lat)"
   ]
  },
  {
   "cell_type": "code",
   "execution_count": 64,
   "metadata": {},
   "outputs": [],
   "source": [
    "pie_dict = {}\n",
    "for s in df_filtrado['Status'].unique():\n",
    "    ns = sum(df_filtrado['Status'] == s)\n",
    "    pie_dict[s] = ns"
   ]
  },
  {
   "cell_type": "code",
   "execution_count": 65,
   "metadata": {},
   "outputs": [
    {
     "data": {
      "image/png": "[encoded data removed]",
      "text/plain": [
       "<Figure size 1296x360 with 2 Axes>"
      ]
     },
     "metadata": {
      "needs_background": "light"
     },
     "output_type": "display_data"
    }
   ],
   "source": [
    "fig, (ax1, ax2) = plt.subplots(1, 2, figsize=(18,5))\n",
    "ax2.pie(pie_dict.values(), autopct='%1.0f', labels=pie_dict.keys())\n",
    "plot_shape(22, ax1)\n",
    "for s in df_filtrado['Status'].unique():\n",
    "    f = df_filtrado['Status'] == s\n",
    "    x, y = df_filtrado[f]['Latitude'].values, df_filtrado[f]['Longitude'].values\n",
    "    x, y = [float(i.replace(',','.')) for i in x], [float(i.replace(',','.')) for i in y]\n",
    "    ax1.scatter(x, y, label = s, marker='x')\n",
    "ax1.axis('scaled')\n",
    "#fig.suptitle('Status dos processos de hidrelétricas do SIOUT')\n",
    "#ax2.legend(loc='upper right')\n",
    "plt.savefig('Status')"
   ]
  },
  {
   "cell_type": "code",
   "execution_count": 14,
   "metadata": {},
   "outputs": [],
   "source": [
    "doc = KML.Document()"
   ]
  },
  {
   "cell_type": "code",
   "execution_count": 15,
   "metadata": {},
   "outputs": [],
   "source": [
    "icons = {\n",
    "    'verde':'http://maps.google.com/mapfiles/kml/pushpin/grn-pushpin.png',\n",
    "    'amarelo':'http://maps.google.com/mapfiles/kml/pushpin/ylw-pushpin.png',\n",
    "    'vermelho':'http://maps.google.com/mapfiles/kml/pushpin/red-pushpin.png'\n",
    "}"
   ]
  },
  {
   "cell_type": "code",
   "execution_count": 16,
   "metadata": {},
   "outputs": [],
   "source": [
    "for color in icons:\n",
    "    \n",
    "    s = KML.Style(\n",
    "            KML.IconStyle(\n",
    "                KML.scale(1.2),\n",
    "                KML.Icon(\n",
    "                    KML.href(icons[color])\n",
    "                ),\n",
    "            ),\n",
    "            id=color,\n",
    "        )\n",
    "    \n",
    "    doc.append(s)"
   ]
  },
  {
   "cell_type": "code",
   "execution_count": 17,
   "metadata": {},
   "outputs": [],
   "source": [
    "fld_ag_doc = KML.Folder(KML.name('Aguardando formalização de documentos'))\n",
    "fld_ag_an = KML.Folder(KML.name('Aguardando análise'))\n",
    "fld_ag_alt = KML.Folder(KML.name('Aguardando alterações de dados inconsistentes'))\n",
    "fld_an = KML.Folder(KML.name('Em análise'))\n",
    "fld_conc = KML.Folder(KML.name('Concedida'))\n",
    "fld_ind = KML.Folder(KML.name('Indeferida'))"
   ]
  },
  {
   "cell_type": "code",
   "execution_count": 18,
   "metadata": {},
   "outputs": [],
   "source": [
    "for index, row in df_filtrado.iterrows():\n",
    "    name = row['Número do cadastro']\n",
    "    usuario = row['Nome do usuário de água']\n",
    "    status = row['Status']\n",
    "    corpo_hidrico = row['Corpo Hídrico']\n",
    "    municipio = row['Município']\n",
    "    description = '''\n",
    "Usuario: {}\n",
    "Status: {}\n",
    "Municipio: {}\n",
    "Corpo Hidrico: {}\n",
    "    '''.format(usuario, status, municipio, corpo_hidrico)\n",
    "    lat = row['Latitude'].replace(',','.')\n",
    "    long = row['Longitude'].replace(',','.')\n",
    "    coordinates = lat+','+long\n",
    "    \n",
    "    if status == 'Concedida':\n",
    "        style = '#verde'\n",
    "    elif status == 'Indeferida':\n",
    "        style = '#vermelho'\n",
    "    else:\n",
    "        style = '#amarelo'\n",
    "    \n",
    "    p = KML.Placemark(\n",
    "        KML.name(name),\n",
    "        KML.Point(KML.coordinates(coordinates)),\n",
    "        KML.description(description),\n",
    "        KML.styleUrl(style))\n",
    "    \n",
    "    if status == 'Aguardando formalização de documentos':\n",
    "        fld_ag_doc.append(p)\n",
    "    elif status == 'Aguardando análise':\n",
    "        fld_ag_an.append(p)\n",
    "    elif status == 'Aguardando alterações de dados inconsistentes':\n",
    "        fld_ag_alt.append(p)\n",
    "    elif status == 'Em análise':\n",
    "        fld_an.append(p)\n",
    "    elif status == 'Concedida':\n",
    "        fld_conc.append(p)\n",
    "    elif status == 'Indeferida':\n",
    "        fld_ind.append(p)"
   ]
  },
  {
   "cell_type": "code",
   "execution_count": 19,
   "metadata": {},
   "outputs": [],
   "source": [
    "doc.append(fld_ag_doc)\n",
    "doc.append(fld_ag_an)\n",
    "doc.append(fld_ag_alt)\n",
    "doc.append(fld_an)\n",
    "doc.append(fld_conc)\n",
    "doc.append(fld_ind)"
   ]
  },
  {
   "cell_type": "code",
   "execution_count": 20,
   "metadata": {},
   "outputs": [],
   "source": [
    "kml_file_path = 'hidreletricas_SIOUT.kml'"
   ]
  },
  {
   "cell_type": "code",
   "execution_count": 21,
   "metadata": {},
   "outputs": [],
   "source": [
    "kml_str = etree.tostring(doc, pretty_print=True).decode('utf-8')"
   ]
  },
  {
   "cell_type": "code",
   "execution_count": 22,
   "metadata": {},
   "outputs": [],
   "source": [
    "f = open(kml_file_path, \"w\")\n",
    "f.write(kml_str)\n",
    "f.close()"
   ]
  }
 ],
 "metadata": {
  "kernelspec": {
   "display_name": "Python 3",
   "language": "python",
   "name": "python3"
  },
  "language_info": {
   "codemirror_mode": {
    "name": "ipython",
    "version": 3
   },
   "file_extension": ".py",
   "mimetype": "text/x-python",
   "name": "python",
   "nbconvert_exporter": "python",
   "pygments_lexer": "ipython3",
   "version": "3.7.6"
  }
 },
 "nbformat": 4,
 "nbformat_minor": 4
}
