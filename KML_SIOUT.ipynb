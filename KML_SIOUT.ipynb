{
 "cells": [
  {
   "cell_type": "code",
   "execution_count": 1,
   "metadata": {},
   "outputs": [],
   "source": [
    "#!pip install matplotlib\n",
    "#!pip install numpy\n",
    "#!pip install pandas \n",
    "#!pip install pykml\n",
    "#!pip install pyshp"
   ]
  },
  {
   "cell_type": "code",
   "execution_count": 2,
   "metadata": {},
   "outputs": [],
   "source": [
    "import pandas as pd\n",
    "from pykml.factory import KML_ElementMaker as KML\n",
    "from lxml import etree\n",
    "import shapefile as shp\n",
    "import matplotlib.pyplot as plt\n",
    "import numpy as np"
   ]
  },
  {
   "cell_type": "code",
   "execution_count": 5,
   "metadata": {},
   "outputs": [],
   "source": [
    "file_name = 'relatorios/relatorio_380.csv'"
   ]
  },
  {
   "cell_type": "code",
   "execution_count": 6,
   "metadata": {},
   "outputs": [],
   "source": [
    "df = pd.read_csv(filepath_or_buffer=file_name, sep=';', encoding= 'unicode_escape')"
   ]
  },
  {
   "cell_type": "code",
   "execution_count": 7,
   "metadata": {},
   "outputs": [],
   "source": [
    "filtro_intervencao = df['Tipo de Intervenção'] == 'Cadastro apenas da barragem'\n",
    "filtro_status1 = df['Status'] != 'Concluído'\n",
    "filtro_status2 = df['Status'] != 'Desativado'\n",
    "filtro_status3 = df['Status'] != 'Em andamento'"
   ]
  },
  {
   "cell_type": "code",
   "execution_count": 8,
   "metadata": {},
   "outputs": [],
   "source": [
    "df_filtrado = df[filtro_status1 & filtro_status2 & filtro_status3 & filtro_intervencao]"
   ]
  },
  {
   "cell_type": "code",
   "execution_count": 9,
   "metadata": {},
   "outputs": [
    {
     "data": {
      "text/plain": [
       "(89, 25)"
      ]
     },
     "execution_count": 9,
     "metadata": {},
     "output_type": "execute_result"
    }
   ],
   "source": [
    "df_filtrado.shape"
   ]
  },
  {
   "cell_type": "code",
   "execution_count": 10,
   "metadata": {},
   "outputs": [
    {
     "data": {
      "text/html": [
       "<div>\n",
       "<style scoped>\n",
       "    .dataframe tbody tr th:only-of-type {\n",
       "        vertical-align: middle;\n",
       "    }\n",
       "\n",
       "    .dataframe tbody tr th {\n",
       "        vertical-align: top;\n",
       "    }\n",
       "\n",
       "    .dataframe thead th {\n",
       "        text-align: right;\n",
       "    }\n",
       "</style>\n",
       "<table border=\"1\" class=\"dataframe\">\n",
       "  <thead>\n",
       "    <tr style=\"text-align: right;\">\n",
       "      <th></th>\n",
       "      <th>Número do cadastro</th>\n",
       "      <th>Número da portaria</th>\n",
       "      <th>Nome do usuário de água</th>\n",
       "      <th>Natureza da intervenção</th>\n",
       "      <th>Tipo da Fonte de Captação</th>\n",
       "      <th>Tipo de Intervenção</th>\n",
       "      <th>Classificação</th>\n",
       "      <th>Status</th>\n",
       "      <th>Observação</th>\n",
       "      <th>Data de início do cadastro</th>\n",
       "      <th>...</th>\n",
       "      <th>Finalidades de Uso</th>\n",
       "      <th>Bacia Hidrográfica</th>\n",
       "      <th>Corpo Hídrico</th>\n",
       "      <th>Sistema Aquífero</th>\n",
       "      <th>Município</th>\n",
       "      <th>Nome da Geometria</th>\n",
       "      <th>Latitude</th>\n",
       "      <th>Longitude</th>\n",
       "      <th>Latitude (ponto final)</th>\n",
       "      <th>Longitude (ponto final)</th>\n",
       "    </tr>\n",
       "  </thead>\n",
       "  <tbody>\n",
       "    <tr>\n",
       "      <th>1</th>\n",
       "      <td>2020/005.099</td>\n",
       "      <td>O-000.870/2020</td>\n",
       "      <td>BT GERADORA DE ENERGIA ELETRICA S.A.</td>\n",
       "      <td>Água Superficial</td>\n",
       "      <td>Barragem de nível</td>\n",
       "      <td>Cadastro apenas da barragem</td>\n",
       "      <td>Outorga</td>\n",
       "      <td>Concedida</td>\n",
       "      <td>-</td>\n",
       "      <td>27/03/2020</td>\n",
       "      <td>...</td>\n",
       "      <td>Aproveitamento hidrelétrico</td>\n",
       "      <td>Bacia Hidrográfica do Rio da Várzea</td>\n",
       "      <td>Rio Guarita</td>\n",
       "      <td>-</td>\n",
       "      <td>Erval Seco</td>\n",
       "      <td>Ponto 1</td>\n",
       "      <td>-53,5789</td>\n",
       "      <td>-27,5612</td>\n",
       "      <td>-</td>\n",
       "      <td>-</td>\n",
       "    </tr>\n",
       "    <tr>\n",
       "      <th>7</th>\n",
       "      <td>2020/002.866</td>\n",
       "      <td>-</td>\n",
       "      <td>LINHA ONZE OESTE ENERGIA LTDA</td>\n",
       "      <td>Água Superficial</td>\n",
       "      <td>Barragem de nível</td>\n",
       "      <td>Cadastro apenas da barragem</td>\n",
       "      <td>Cadastro</td>\n",
       "      <td>Aguardando formalização de documentos</td>\n",
       "      <td>-</td>\n",
       "      <td>19/02/2020</td>\n",
       "      <td>...</td>\n",
       "      <td>Aproveitamento hidrelétrico</td>\n",
       "      <td>Bacia Hidrográfica do Rio Ijuí</td>\n",
       "      <td>Rio Ijuí</td>\n",
       "      <td>-</td>\n",
       "      <td>Coronel Barros</td>\n",
       "      <td>Ponto 1</td>\n",
       "      <td>-54,0045500199785</td>\n",
       "      <td>-28,3511124417778</td>\n",
       "      <td>-</td>\n",
       "      <td>-</td>\n",
       "    </tr>\n",
       "    <tr>\n",
       "      <th>8</th>\n",
       "      <td>2020/002.683</td>\n",
       "      <td>-</td>\n",
       "      <td>Cooperativa de Geração de Energia e Desenvolvi...</td>\n",
       "      <td>Água Superficial</td>\n",
       "      <td>Barragem de nível</td>\n",
       "      <td>Cadastro apenas da barragem</td>\n",
       "      <td>Cadastro</td>\n",
       "      <td>Aguardando formalização de documentos</td>\n",
       "      <td>-</td>\n",
       "      <td>17/02/2020</td>\n",
       "      <td>...</td>\n",
       "      <td>Aproveitamento hidrelétrico</td>\n",
       "      <td>Bacia Hidrográfica dos Rios Turvo - Santa Rosa...</td>\n",
       "      <td>Rio Buricá</td>\n",
       "      <td>-</td>\n",
       "      <td>Chiapetta</td>\n",
       "      <td>Ponto 1</td>\n",
       "      <td>-53,9701307613505</td>\n",
       "      <td>-27,9612491935233</td>\n",
       "      <td>-</td>\n",
       "      <td>-</td>\n",
       "    </tr>\n",
       "    <tr>\n",
       "      <th>12</th>\n",
       "      <td>2020/001.754</td>\n",
       "      <td>-</td>\n",
       "      <td>BORTOLON AGROCOMERCIAL EIRELI</td>\n",
       "      <td>Água Superficial</td>\n",
       "      <td>Barragem de acumulação</td>\n",
       "      <td>Cadastro apenas da barragem</td>\n",
       "      <td>Cadastro</td>\n",
       "      <td>Aguardando análise</td>\n",
       "      <td>-</td>\n",
       "      <td>31/01/2020</td>\n",
       "      <td>...</td>\n",
       "      <td>Aproveitamento hidrelétrico</td>\n",
       "      <td>Bacia Hidrográfica dos Rios Apuaê - Inhandava</td>\n",
       "      <td>Rio Socorro</td>\n",
       "      <td>-</td>\n",
       "      <td>Vacaria</td>\n",
       "      <td>Ponto 1</td>\n",
       "      <td>-50,8559701377817</td>\n",
       "      <td>-28,2990821433521</td>\n",
       "      <td>-</td>\n",
       "      <td>-</td>\n",
       "    </tr>\n",
       "    <tr>\n",
       "      <th>13</th>\n",
       "      <td>2020/001.523</td>\n",
       "      <td>R-000.836/2020</td>\n",
       "      <td>ENERBIO SERVICOS DE ENGENHARIA LTDA</td>\n",
       "      <td>Água Superficial</td>\n",
       "      <td>Barragem de nível</td>\n",
       "      <td>Cadastro apenas da barragem</td>\n",
       "      <td>Reserva de disponibilidade hídrica</td>\n",
       "      <td>Concedida</td>\n",
       "      <td>-</td>\n",
       "      <td>28/01/2020</td>\n",
       "      <td>...</td>\n",
       "      <td>Aproveitamento hidrelétrico</td>\n",
       "      <td>Bacia Hidrográfica do Rio da Várzea</td>\n",
       "      <td>Rio Fortaleza</td>\n",
       "      <td>-</td>\n",
       "      <td>Erval Seco</td>\n",
       "      <td>Ponto 1</td>\n",
       "      <td>-53,5472</td>\n",
       "      <td>-27,4186</td>\n",
       "      <td>-</td>\n",
       "      <td>-</td>\n",
       "    </tr>\n",
       "  </tbody>\n",
       "</table>\n",
       "<p>5 rows × 25 columns</p>\n",
       "</div>"
      ],
      "text/plain": [
       "   Número do cadastro Número da portaria  \\\n",
       "1        2020/005.099     O-000.870/2020   \n",
       "7        2020/002.866                  -   \n",
       "8        2020/002.683                  -   \n",
       "12       2020/001.754                  -   \n",
       "13       2020/001.523     R-000.836/2020   \n",
       "\n",
       "                              Nome do usuário de água Natureza da intervenção  \\\n",
       "1                BT GERADORA DE ENERGIA ELETRICA S.A.        Água Superficial   \n",
       "7                       LINHA ONZE OESTE ENERGIA LTDA        Água Superficial   \n",
       "8   Cooperativa de Geração de Energia e Desenvolvi...        Água Superficial   \n",
       "12                      BORTOLON AGROCOMERCIAL EIRELI        Água Superficial   \n",
       "13                ENERBIO SERVICOS DE ENGENHARIA LTDA        Água Superficial   \n",
       "\n",
       "   Tipo da Fonte de Captação          Tipo de Intervenção  \\\n",
       "1          Barragem de nível  Cadastro apenas da barragem   \n",
       "7          Barragem de nível  Cadastro apenas da barragem   \n",
       "8          Barragem de nível  Cadastro apenas da barragem   \n",
       "12    Barragem de acumulação  Cadastro apenas da barragem   \n",
       "13         Barragem de nível  Cadastro apenas da barragem   \n",
       "\n",
       "                         Classificação                                 Status  \\\n",
       "1                              Outorga                              Concedida   \n",
       "7                             Cadastro  Aguardando formalização de documentos   \n",
       "8                             Cadastro  Aguardando formalização de documentos   \n",
       "12                            Cadastro                     Aguardando análise   \n",
       "13  Reserva de disponibilidade hídrica                              Concedida   \n",
       "\n",
       "   Observação Data de início do cadastro  ...           Finalidades de Uso  \\\n",
       "1           -                 27/03/2020  ...  Aproveitamento hidrelétrico   \n",
       "7           -                 19/02/2020  ...  Aproveitamento hidrelétrico   \n",
       "8           -                 17/02/2020  ...  Aproveitamento hidrelétrico   \n",
       "12          -                 31/01/2020  ...  Aproveitamento hidrelétrico   \n",
       "13          -                 28/01/2020  ...  Aproveitamento hidrelétrico   \n",
       "\n",
       "                                   Bacia Hidrográfica  Corpo Hídrico  \\\n",
       "1                 Bacia Hidrográfica do Rio da Várzea    Rio Guarita   \n",
       "7                      Bacia Hidrográfica do Rio Ijuí       Rio Ijuí   \n",
       "8   Bacia Hidrográfica dos Rios Turvo - Santa Rosa...     Rio Buricá   \n",
       "12      Bacia Hidrográfica dos Rios Apuaê - Inhandava    Rio Socorro   \n",
       "13                Bacia Hidrográfica do Rio da Várzea  Rio Fortaleza   \n",
       "\n",
       "   Sistema Aquífero       Município Nome da Geometria           Latitude  \\\n",
       "1                 -      Erval Seco           Ponto 1           -53,5789   \n",
       "7                 -  Coronel Barros           Ponto 1  -54,0045500199785   \n",
       "8                 -       Chiapetta           Ponto 1  -53,9701307613505   \n",
       "12                -         Vacaria           Ponto 1  -50,8559701377817   \n",
       "13                -      Erval Seco           Ponto 1           -53,5472   \n",
       "\n",
       "            Longitude Latitude (ponto final) Longitude (ponto final)  \n",
       "1            -27,5612                      -                       -  \n",
       "7   -28,3511124417778                      -                       -  \n",
       "8   -27,9612491935233                      -                       -  \n",
       "12  -28,2990821433521                      -                       -  \n",
       "13           -27,4186                      -                       -  \n",
       "\n",
       "[5 rows x 25 columns]"
      ]
     },
     "execution_count": 10,
     "metadata": {},
     "output_type": "execute_result"
    }
   ],
   "source": [
    "df_filtrado.head()"
   ]
  },
  {
   "cell_type": "code",
   "execution_count": 11,
   "metadata": {},
   "outputs": [
    {
     "data": {
      "text/plain": [
       "array(['Concedida', 'Aguardando formalização de documentos',\n",
       "       'Aguardando análise',\n",
       "       'Aguardando alterações de dados inconsistentes', 'Indeferida',\n",
       "       'Em análise', 'Aguardando pagamento da guia'], dtype=object)"
      ]
     },
     "execution_count": 11,
     "metadata": {},
     "output_type": "execute_result"
    }
   ],
   "source": [
    "df_filtrado['Status'].unique()"
   ]
  },
  {
   "cell_type": "code",
   "execution_count": 12,
   "metadata": {},
   "outputs": [
    {
     "data": {
      "text/html": [
       "<div>\n",
       "<style scoped>\n",
       "    .dataframe tbody tr th:only-of-type {\n",
       "        vertical-align: middle;\n",
       "    }\n",
       "\n",
       "    .dataframe tbody tr th {\n",
       "        vertical-align: top;\n",
       "    }\n",
       "\n",
       "    .dataframe thead th {\n",
       "        text-align: right;\n",
       "    }\n",
       "</style>\n",
       "<table border=\"1\" class=\"dataframe\">\n",
       "  <thead>\n",
       "    <tr style=\"text-align: right;\">\n",
       "      <th></th>\n",
       "      <th>Número do cadastro</th>\n",
       "      <th>Nome do usuário de água</th>\n",
       "      <th>Data de início do cadastro</th>\n",
       "      <th>Data de saída do processo</th>\n",
       "    </tr>\n",
       "  </thead>\n",
       "  <tbody>\n",
       "    <tr>\n",
       "      <th>12</th>\n",
       "      <td>2020/001.754</td>\n",
       "      <td>BORTOLON AGROCOMERCIAL EIRELI</td>\n",
       "      <td>2020-01-31</td>\n",
       "      <td>2020-04-06</td>\n",
       "    </tr>\n",
       "    <tr>\n",
       "      <th>96</th>\n",
       "      <td>2019/004.975</td>\n",
       "      <td>PALOMA ENERGIA LTDA</td>\n",
       "      <td>2019-03-29</td>\n",
       "      <td>2020-04-23</td>\n",
       "    </tr>\n",
       "  </tbody>\n",
       "</table>\n",
       "</div>"
      ],
      "text/plain": [
       "   Número do cadastro        Nome do usuário de água  \\\n",
       "12       2020/001.754  BORTOLON AGROCOMERCIAL EIRELI   \n",
       "96       2019/004.975            PALOMA ENERGIA LTDA   \n",
       "\n",
       "   Data de início do cadastro Data de saída do processo  \n",
       "12                 2020-01-31                2020-04-06  \n",
       "96                 2019-03-29                2020-04-23  "
      ]
     },
     "execution_count": 12,
     "metadata": {},
     "output_type": "execute_result"
    }
   ],
   "source": [
    "aguardando = df_filtrado[df_filtrado['Status'] == 'Aguardando análise'][['Número do cadastro', 'Nome do usuário de água', 'Data de início do cadastro', 'Data de saída do processo']]\n",
    "aguardando['Data de saída do processo'] = pd.to_datetime(aguardando['Data de saída do processo'], dayfirst=True)\n",
    "aguardando['Data de início do cadastro'] = pd.to_datetime(aguardando['Data de início do cadastro'], dayfirst=True)\n",
    "aguardando.sort_values('Data de saída do processo')\n",
    "aguardando.to_csv('aguardando_analise.csv', index=False)\n",
    "aguardando"
   ]
  },
  {
   "cell_type": "code",
   "execution_count": 13,
   "metadata": {},
   "outputs": [
    {
     "data": {
      "text/html": [
       "<div>\n",
       "<style scoped>\n",
       "    .dataframe tbody tr th:only-of-type {\n",
       "        vertical-align: middle;\n",
       "    }\n",
       "\n",
       "    .dataframe tbody tr th {\n",
       "        vertical-align: top;\n",
       "    }\n",
       "\n",
       "    .dataframe thead th {\n",
       "        text-align: right;\n",
       "    }\n",
       "</style>\n",
       "<table border=\"1\" class=\"dataframe\">\n",
       "  <thead>\n",
       "    <tr style=\"text-align: right;\">\n",
       "      <th></th>\n",
       "      <th>Número do cadastro</th>\n",
       "      <th>Nome do usuário de água</th>\n",
       "      <th>Data de início do cadastro</th>\n",
       "      <th>Data de saída do processo</th>\n",
       "    </tr>\n",
       "  </thead>\n",
       "  <tbody>\n",
       "    <tr>\n",
       "      <th>103</th>\n",
       "      <td>2019/003.312</td>\n",
       "      <td>TOUROS III ENERGÉTICA S.A.</td>\n",
       "      <td>2019-02-27</td>\n",
       "      <td>2020-02-20</td>\n",
       "    </tr>\n",
       "    <tr>\n",
       "      <th>108</th>\n",
       "      <td>2019/002.931</td>\n",
       "      <td>TOUROS II ENERGÉTICA S.A.</td>\n",
       "      <td>2019-02-22</td>\n",
       "      <td>2020-01-31</td>\n",
       "    </tr>\n",
       "    <tr>\n",
       "      <th>121</th>\n",
       "      <td>2019/001.316</td>\n",
       "      <td>OLFAR S/A ALIMENTO E ENERGIA</td>\n",
       "      <td>2019-01-25</td>\n",
       "      <td>2020-04-16</td>\n",
       "    </tr>\n",
       "    <tr>\n",
       "      <th>144</th>\n",
       "      <td>2018/033.376</td>\n",
       "      <td>Agropecuaria Fockink Ltda</td>\n",
       "      <td>2018-11-29</td>\n",
       "      <td>2020-01-07</td>\n",
       "    </tr>\n",
       "  </tbody>\n",
       "</table>\n",
       "</div>"
      ],
      "text/plain": [
       "    Número do cadastro       Nome do usuário de água  \\\n",
       "103       2019/003.312    TOUROS III ENERGÉTICA S.A.   \n",
       "108       2019/002.931     TOUROS II ENERGÉTICA S.A.   \n",
       "121       2019/001.316  OLFAR S/A ALIMENTO E ENERGIA   \n",
       "144       2018/033.376     Agropecuaria Fockink Ltda   \n",
       "\n",
       "    Data de início do cadastro Data de saída do processo  \n",
       "103                 2019-02-27                2020-02-20  \n",
       "108                 2019-02-22                2020-01-31  \n",
       "121                 2019-01-25                2020-04-16  \n",
       "144                 2018-11-29                2020-01-07  "
      ]
     },
     "execution_count": 13,
     "metadata": {},
     "output_type": "execute_result"
    }
   ],
   "source": [
    "aguardando = df_filtrado[df_filtrado['Status'] == 'Em análise'][['Número do cadastro', 'Nome do usuário de água', 'Data de início do cadastro', 'Data de saída do processo']]\n",
    "aguardando['Data de saída do processo'] = pd.to_datetime(aguardando['Data de saída do processo'], dayfirst=True)\n",
    "aguardando['Data de início do cadastro'] = pd.to_datetime(aguardando['Data de início do cadastro'], dayfirst=True)\n",
    "aguardando.sort_values('Data de saída do processo')\n",
    "aguardando.to_csv('em_analise.csv', index=False)\n",
    "aguardando"
   ]
  },
  {
   "cell_type": "code",
   "execution_count": 14,
   "metadata": {},
   "outputs": [],
   "source": [
    "shp_path = \"estados_2010.shp\"\n",
    "sf = shp.Reader(shp_path)"
   ]
  },
  {
   "cell_type": "code",
   "execution_count": 15,
   "metadata": {},
   "outputs": [
    {
     "data": {
      "text/plain": [
       "Record #22: [23, 'Rio Grande do Sul', 'RS', '1', '43']"
      ]
     },
     "execution_count": 15,
     "metadata": {},
     "output_type": "execute_result"
    }
   ],
   "source": [
    "sf.records()[22]"
   ]
  },
  {
   "cell_type": "code",
   "execution_count": 16,
   "metadata": {},
   "outputs": [],
   "source": [
    "def plot_shape(idt, ax, sf):\n",
    "    shape_ex = sf.shape(idt)\n",
    "    x_lon = np.zeros((len(shape_ex.points),1))\n",
    "    y_lat = np.zeros((len(shape_ex.points),1))\n",
    "    for ip in range(len(shape_ex.points)):\n",
    "        x_lon[ip] = shape_ex.points[ip][0]\n",
    "        y_lat[ip] = shape_ex.points[ip][1]\n",
    "    ax.plot(x_lon,y_lat,c='gray') \n",
    "    x0 = np.mean(x_lon)\n",
    "    y0 = np.mean(y_lat)"
   ]
  },
  {
   "cell_type": "code",
   "execution_count": 17,
   "metadata": {},
   "outputs": [],
   "source": [
    "pie_dict = {}\n",
    "for s in df_filtrado['Status'].unique():\n",
    "    ns = sum(df_filtrado['Status'] == s)\n",
    "    pie_dict[s] = ns"
   ]
  },
  {
   "cell_type": "code",
   "execution_count": 18,
   "metadata": {},
   "outputs": [],
   "source": [
    "def make_autopct(values):\n",
    "    def my_autopct(pct):\n",
    "        total = sum(values)\n",
    "        val = int(round(pct*total/100.0))\n",
    "        return '{p:.2f}%  ({v:d})'.format(p=pct,v=val)\n",
    "    return my_autopct"
   ]
  },
  {
   "cell_type": "code",
   "execution_count": 19,
   "metadata": {},
   "outputs": [
    {
     "data": {
      "image/png": "[encoded data removed]",
      "text/plain": [
       "<Figure size 1296x360 with 2 Axes>"
      ]
     },
     "metadata": {
      "needs_background": "light"
     },
     "output_type": "display_data"
    }
   ],
   "source": [
    "fig, (ax1, ax2) = plt.subplots(1, 2, figsize=(18,5))\n",
    "ax2.pie(pie_dict.values(), autopct=make_autopct(pie_dict.values()), labels=pie_dict.keys())\n",
    "plot_shape(22, ax1, sf)\n",
    "for s in df_filtrado['Status'].unique():\n",
    "    f = df_filtrado['Status'] == s\n",
    "    x, y = df_filtrado[f]['Latitude'].values, df_filtrado[f]['Longitude'].values\n",
    "    x, y = [float(i.replace(',','.')) for i in x], [float(i.replace(',','.')) for i in y]\n",
    "    ax1.scatter(x, y, label = s, marker='x')\n",
    "ax1.axis('scaled')\n",
    "#fig.suptitle('Status dos processos de hidrelétricas do SIOUT')\n",
    "#ax2.legend(loc='upper right')\n",
    "plt.savefig('Status', bbox_inches='tight')"
   ]
  },
  {
   "cell_type": "code",
   "execution_count": 20,
   "metadata": {},
   "outputs": [],
   "source": [
    "doc = KML.Document()"
   ]
  },
  {
   "cell_type": "code",
   "execution_count": 21,
   "metadata": {},
   "outputs": [],
   "source": [
    "icons = {\n",
    "    'verde':'http://maps.google.com/mapfiles/kml/pushpin/grn-pushpin.png',\n",
    "    'amarelo':'http://maps.google.com/mapfiles/kml/pushpin/ylw-pushpin.png',\n",
    "    'vermelho':'http://maps.google.com/mapfiles/kml/pushpin/red-pushpin.png'\n",
    "}"
   ]
  },
  {
   "cell_type": "code",
   "execution_count": 22,
   "metadata": {},
   "outputs": [],
   "source": [
    "for color in icons:\n",
    "    \n",
    "    s = KML.Style(\n",
    "            KML.IconStyle(\n",
    "                KML.scale(1.2),\n",
    "                KML.Icon(\n",
    "                    KML.href(icons[color])\n",
    "                ),\n",
    "            ),\n",
    "            id=color,\n",
    "        )\n",
    "    \n",
    "    doc.append(s)"
   ]
  },
  {
   "cell_type": "code",
   "execution_count": 23,
   "metadata": {},
   "outputs": [],
   "source": [
    "fld_ag_doc = KML.Folder(KML.name('Aguardando formalização de documentos'))\n",
    "fld_ag_an = KML.Folder(KML.name('Aguardando análise'))\n",
    "fld_ag_alt = KML.Folder(KML.name('Aguardando alterações de dados inconsistentes'))\n",
    "fld_an = KML.Folder(KML.name('Em análise'))\n",
    "fld_conc = KML.Folder(KML.name('Concedida'))\n",
    "fld_ind = KML.Folder(KML.name('Indeferida'))"
   ]
  },
  {
   "cell_type": "code",
   "execution_count": 24,
   "metadata": {},
   "outputs": [],
   "source": [
    "for index, row in df_filtrado.iterrows():\n",
    "    name = row['Número do cadastro']\n",
    "    usuario = row['Nome do usuário de água']\n",
    "    status = row['Status']\n",
    "    corpo_hidrico = row['Corpo Hídrico']\n",
    "    municipio = row['Município']\n",
    "    description = '''\n",
    "Usuario: {}\n",
    "Status: {}\n",
    "Municipio: {}\n",
    "Corpo Hidrico: {}\n",
    "    '''.format(usuario, status, municipio, corpo_hidrico)\n",
    "    lat = row['Latitude'].replace(',','.')\n",
    "    long = row['Longitude'].replace(',','.')\n",
    "    coordinates = lat+','+long\n",
    "    \n",
    "    if status == 'Concedida':\n",
    "        style = '#verde'\n",
    "    elif status == 'Indeferida':\n",
    "        style = '#vermelho'\n",
    "    else:\n",
    "        style = '#amarelo'\n",
    "    \n",
    "    p = KML.Placemark(\n",
    "        KML.name(name),\n",
    "        KML.Point(KML.coordinates(coordinates)),\n",
    "        KML.description(description),\n",
    "        KML.styleUrl(style))\n",
    "    \n",
    "    if status == 'Aguardando formalização de documentos':\n",
    "        fld_ag_doc.append(p)\n",
    "    elif status == 'Aguardando análise':\n",
    "        fld_ag_an.append(p)\n",
    "    elif status == 'Aguardando alterações de dados inconsistentes':\n",
    "        fld_ag_alt.append(p)\n",
    "    elif status == 'Em análise':\n",
    "        fld_an.append(p)\n",
    "    elif status == 'Concedida':\n",
    "        fld_conc.append(p)\n",
    "    elif status == 'Indeferida':\n",
    "        fld_ind.append(p)"
   ]
  },
  {
   "cell_type": "code",
   "execution_count": 25,
   "metadata": {},
   "outputs": [],
   "source": [
    "doc.append(fld_ag_doc)\n",
    "doc.append(fld_ag_an)\n",
    "doc.append(fld_ag_alt)\n",
    "doc.append(fld_an)\n",
    "doc.append(fld_conc)\n",
    "doc.append(fld_ind)"
   ]
  },
  {
   "cell_type": "code",
   "execution_count": 26,
   "metadata": {},
   "outputs": [],
   "source": [
    "kml_file_path = 'hidreletricas_SIOUT.kml'"
   ]
  },
  {
   "cell_type": "code",
   "execution_count": 27,
   "metadata": {},
   "outputs": [],
   "source": [
    "kml_str = etree.tostring(doc, pretty_print=True).decode('utf-8')"
   ]
  },
  {
   "cell_type": "code",
   "execution_count": 28,
   "metadata": {},
   "outputs": [],
   "source": [
    "f = open(kml_file_path, \"w\")\n",
    "f.write(kml_str)\n",
    "f.close()"
   ]
  },
  {
   "cell_type": "code",
   "execution_count": null,
   "metadata": {},
   "outputs": [],
   "source": []
  }
 ],
 "metadata": {
  "kernelspec": {
   "display_name": "Python 3",
   "language": "python",
   "name": "python3"
  },
  "language_info": {
   "codemirror_mode": {
    "name": "ipython",
    "version": 3
   },
   "file_extension": ".py",
   "mimetype": "text/x-python",
   "name": "python",
   "nbconvert_exporter": "python",
   "pygments_lexer": "ipython3",
   "version": "3.8.2"
  }
 },
 "nbformat": 4,
 "nbformat_minor": 4
}
