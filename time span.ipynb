{
 "cells": [
  {
   "cell_type": "code",
   "execution_count": 27,
   "id": "logical-support",
   "metadata": {},
   "outputs": [],
   "source": [
    "import pandas as pd\n",
    "import numpy as np\n",
    "from datetime import date\n",
    "import matplotlib.pyplot as plt"
   ]
  },
  {
   "cell_type": "code",
   "execution_count": 7,
   "id": "animated-kruger",
   "metadata": {},
   "outputs": [],
   "source": [
    "file_name = '/home/void/git/KML_hidreletricas/relatorios/relatorio_710.csv'\n",
    "df = pd.read_csv(filepath_or_buffer=file_name, sep=';', encoding= 'unicode_escape')"
   ]
  },
  {
   "cell_type": "code",
   "execution_count": 8,
   "id": "expected-element",
   "metadata": {},
   "outputs": [],
   "source": [
    "fo = df['Classificação'] == 'Outorga'\n",
    "fr = df['Classificação'] == 'Reserva de disponibilidade hídrica'\n",
    "fs = df['Status'] == 'Concedida'"
   ]
  },
  {
   "cell_type": "code",
   "execution_count": 11,
   "id": "polyphonic-yugoslavia",
   "metadata": {},
   "outputs": [
    {
     "name": "stderr",
     "output_type": "stream",
     "text": [
      "/home/void/anaconda3/envs/drh/lib/python3.7/site-packages/ipykernel_launcher.py:2: UserWarning: Boolean Series key will be reindexed to match DataFrame index.\n",
      "  \n"
     ]
    }
   ],
   "source": [
    "df_portaria = df[fo | fr]\n",
    "df_concedida = df_portaria[fs]"
   ]
  },
  {
   "cell_type": "code",
   "execution_count": 25,
   "id": "disabled-habitat",
   "metadata": {},
   "outputs": [],
   "source": [
    "entrada = df_concedida['Data de início do cadastro']\n",
    "entrada = [date(int(i.split('/')[2]), int(i.split('/')[1]), int(i.split('/')[0])) for i in entrada]\n",
    "entrada = np.array(entrada)\n",
    "saida = df_concedida['Data de saída do processo']\n",
    "saida = [date(int(i.split('/')[2]), int(i.split('/')[1]), int(i.split('/')[0])) for i in saida]\n",
    "saida = np.array(saida)\n",
    "tspan = saida - entrada\n",
    "tspan = [tspan[i].days for i in range(len(tspan))]"
   ]
  },
  {
   "cell_type": "code",
   "execution_count": 39,
   "id": "vertical-verse",
   "metadata": {},
   "outputs": [
    {
     "data": {
      "text/plain": [
       "<matplotlib.legend.Legend at 0x7f547127ca10>"
      ]
     },
     "execution_count": 39,
     "metadata": {},
     "output_type": "execute_result"
    },
    {
     "data": {
      "image/png": "[encoded data removed]",
      "text/plain": [
       "<Figure size 360x288 with 1 Axes>"
      ]
     },
     "metadata": {
      "needs_background": "light"
     },
     "output_type": "display_data"
    }
   ],
   "source": [
    "plt.figure(figsize=(5,4))\n",
    "plt.hist(tspan)\n",
    "plt.axvline(np.median(tspan), c='red', label='mediana')\n",
    "plt.title('Iínicio do cadasto - saída do processo em dias')\n",
    "plt.legend()"
   ]
  },
  {
   "cell_type": "code",
   "execution_count": null,
   "id": "amino-vector",
   "metadata": {},
   "outputs": [],
   "source": []
  }
 ],
 "metadata": {
  "kernelspec": {
   "display_name": "Python 3",
   "language": "python",
   "name": "python3"
  },
  "language_info": {
   "codemirror_mode": {
    "name": "ipython",
    "version": 3
   },
   "file_extension": ".py",
   "mimetype": "text/x-python",
   "name": "python",
   "nbconvert_exporter": "python",
   "pygments_lexer": "ipython3",
   "version": "3.7.7"
  }
 },
 "nbformat": 4,
 "nbformat_minor": 5
}
