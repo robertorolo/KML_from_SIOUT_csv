{
 "cells": [
  {
   "cell_type": "code",
   "execution_count": 1,
   "metadata": {},
   "outputs": [],
   "source": [
    "import pandas as pd\n",
    "from pykml.factory import KML_ElementMaker as KML\n",
    "from lxml import etree\n",
    "#import shapefile as shp\n",
    "import matplotlib.pyplot as plt\n",
    "import numpy as np\n",
    "import geopandas"
   ]
  },
  {
   "cell_type": "code",
   "execution_count": 2,
   "metadata": {},
   "outputs": [],
   "source": [
    "file_name = 'relatorios/relatorio_399.csv'"
   ]
  },
  {
   "cell_type": "code",
   "execution_count": 3,
   "metadata": {},
   "outputs": [],
   "source": [
    "df = pd.read_csv(filepath_or_buffer=file_name, sep=';', encoding= 'unicode_escape')"
   ]
  },
  {
   "cell_type": "code",
   "execution_count": 4,
   "metadata": {},
   "outputs": [],
   "source": [
    "#filtro_intervencao = df['Tipo de Intervenção'] == 'Cadastro apenas da barragem'\n",
    "filtro_status1 = df['Status'] == 'Aguardando análise'\n",
    "filtro_status2 = df['Status'] == 'Aguardando alterações de dados inconsistentes'\n",
    "filtro_status3 = df['Status'] == 'Concedida'\n",
    "filtro_status4 = df['Status'] == 'Indeferida'\n",
    "filtro_status5 = df['Status'] == 'Em análise'"
   ]
  },
  {
   "cell_type": "code",
   "execution_count": 5,
   "metadata": {},
   "outputs": [],
   "source": [
    "u_status = ['Concedida', 'Indeferida', 'Em análise', 'Aguardando análise', 'Aguardando alterações de dados inconsistentes']"
   ]
  },
  {
   "cell_type": "code",
   "execution_count": 6,
   "metadata": {},
   "outputs": [
    {
     "data": {
      "text/plain": [
       "56"
      ]
     },
     "execution_count": 6,
     "metadata": {},
     "output_type": "execute_result"
    }
   ],
   "source": [
    "sum(filtro_status3)"
   ]
  },
  {
   "cell_type": "code",
   "execution_count": 7,
   "metadata": {},
   "outputs": [],
   "source": [
    "#df_filtrado = df[filtro_intervencao]\n",
    "df_filtrado = df[filtro_status1 |filtro_status2 | filtro_status3 | filtro_status4 | filtro_status5]"
   ]
  },
  {
   "cell_type": "code",
   "execution_count": 8,
   "metadata": {},
   "outputs": [
    {
     "data": {
      "text/plain": [
       "107"
      ]
     },
     "execution_count": 8,
     "metadata": {},
     "output_type": "execute_result"
    }
   ],
   "source": [
    "n_proc = df_filtrado.shape[0]\n",
    "n_proc"
   ]
  },
  {
   "cell_type": "code",
   "execution_count": 9,
   "metadata": {},
   "outputs": [],
   "source": [
    "#df_filtrado.head()"
   ]
  },
  {
   "cell_type": "code",
   "execution_count": 10,
   "metadata": {},
   "outputs": [],
   "source": [
    "df_nomes = df_filtrado[['Número do cadastro', 'Número da portaria', 'Nome do usuário de água', 'Status', 'Data de saída do processo', 'Município']]"
   ]
  },
  {
   "cell_type": "code",
   "execution_count": 11,
   "metadata": {},
   "outputs": [
    {
     "name": "stderr",
     "output_type": "stream",
     "text": [
      "C:\\Users\\Roberto Rolo\\anaconda3\\envs\\drh\\lib\\site-packages\\ipykernel_launcher.py:1: SettingWithCopyWarning: \n",
      "A value is trying to be set on a copy of a slice from a DataFrame.\n",
      "Try using .loc[row_indexer,col_indexer] = value instead\n",
      "\n",
      "See the caveats in the documentation: https://pandas.pydata.org/pandas-docs/stable/user_guide/indexing.html#returning-a-view-versus-a-copy\n",
      "  \"\"\"Entry point for launching an IPython kernel.\n",
      "C:\\Users\\Roberto Rolo\\anaconda3\\envs\\drh\\lib\\site-packages\\ipykernel_launcher.py:2: SettingWithCopyWarning: \n",
      "A value is trying to be set on a copy of a slice from a DataFrame.\n",
      "Try using .loc[row_indexer,col_indexer] = value instead\n",
      "\n",
      "See the caveats in the documentation: https://pandas.pydata.org/pandas-docs/stable/user_guide/indexing.html#returning-a-view-versus-a-copy\n",
      "  \n"
     ]
    }
   ],
   "source": [
    "df_nomes['Prioridade'] = 'Não'\n",
    "df_nomes['Nome'] = 'N/D'"
   ]
  },
  {
   "cell_type": "code",
   "execution_count": 12,
   "metadata": {},
   "outputs": [],
   "source": [
    "nomes = pd.read_csv(\"nomes.csv\", sep=\",\", encoding='utf8')"
   ]
  },
  {
   "cell_type": "code",
   "execution_count": 13,
   "metadata": {},
   "outputs": [
    {
     "name": "stderr",
     "output_type": "stream",
     "text": [
      "C:\\Users\\Roberto Rolo\\anaconda3\\envs\\drh\\lib\\site-packages\\pandas\\core\\indexing.py:670: SettingWithCopyWarning: \n",
      "A value is trying to be set on a copy of a slice from a DataFrame\n",
      "\n",
      "See the caveats in the documentation: https://pandas.pydata.org/pandas-docs/stable/user_guide/indexing.html#returning-a-view-versus-a-copy\n",
      "  iloc._setitem_with_indexer(indexer, value)\n",
      "C:\\Users\\Roberto Rolo\\anaconda3\\envs\\drh\\lib\\site-packages\\ipykernel_launcher.py:7: SettingWithCopyWarning: \n",
      "A value is trying to be set on a copy of a slice from a DataFrame\n",
      "\n",
      "See the caveats in the documentation: https://pandas.pydata.org/pandas-docs/stable/user_guide/indexing.html#returning-a-view-versus-a-copy\n",
      "  import sys\n"
     ]
    }
   ],
   "source": [
    "for index, row in nomes.iterrows():\n",
    "    num = row['Número do cadastro']\n",
    "    name = row['Nome']\n",
    "    for index1, row1 in df_nomes.iterrows():\n",
    "        num1 = row1['Número do cadastro']\n",
    "        if num == num1:\n",
    "            df_nomes.loc[index1, 'Nome'] = name"
   ]
  },
  {
   "cell_type": "code",
   "execution_count": 14,
   "metadata": {},
   "outputs": [
    {
     "name": "stderr",
     "output_type": "stream",
     "text": [
      "C:\\Users\\Roberto Rolo\\anaconda3\\envs\\drh\\lib\\site-packages\\ipykernel_launcher.py:1: SettingWithCopyWarning: \n",
      "A value is trying to be set on a copy of a slice from a DataFrame.\n",
      "Try using .loc[row_indexer,col_indexer] = value instead\n",
      "\n",
      "See the caveats in the documentation: https://pandas.pydata.org/pandas-docs/stable/user_guide/indexing.html#returning-a-view-versus-a-copy\n",
      "  \"\"\"Entry point for launching an IPython kernel.\n"
     ]
    }
   ],
   "source": [
    "df_filtrado['Nome'] = df_nomes['Nome']"
   ]
  },
  {
   "cell_type": "code",
   "execution_count": 15,
   "metadata": {},
   "outputs": [],
   "source": [
    "df_nomes = df_nomes[['Prioridade', 'Número do cadastro','Nome', 'Nome do usuário de água', 'Município', 'Status', 'Data de saída do processo', 'Número da portaria']]"
   ]
  },
  {
   "cell_type": "code",
   "execution_count": 16,
   "metadata": {},
   "outputs": [],
   "source": [
    "df_nomes = df_nomes.reindex()"
   ]
  },
  {
   "cell_type": "code",
   "execution_count": 17,
   "metadata": {},
   "outputs": [],
   "source": [
    "def criar_nome(lista):\n",
    "    nome = ' '.join(lista)\n",
    "    return nome"
   ]
  },
  {
   "cell_type": "code",
   "execution_count": 18,
   "metadata": {},
   "outputs": [],
   "source": [
    "tipo = [i.split()[0] for i in df_nomes['Nome']]\n",
    "nome = [criar_nome(i.split()[1:]) for i in df_nomes['Nome']]"
   ]
  },
  {
   "cell_type": "code",
   "execution_count": 19,
   "metadata": {},
   "outputs": [],
   "source": [
    "df_nomes['Nome'] = nome"
   ]
  },
  {
   "cell_type": "code",
   "execution_count": 20,
   "metadata": {},
   "outputs": [],
   "source": [
    "df_nomes.insert(2, 'Tipo', tipo,  allow_duplicates=True)"
   ]
  },
  {
   "cell_type": "code",
   "execution_count": 22,
   "metadata": {},
   "outputs": [],
   "source": [
    "df_nomes.to_csv('nomes_dumped.csv', index=False)\n",
    "df_nomes.to_excel('processos_siout.xlsx', index=False, sheet_name='SIOUT')"
   ]
  },
  {
   "cell_type": "code",
   "execution_count": 23,
   "metadata": {},
   "outputs": [
    {
     "data": {
      "text/html": [
       "<div>\n",
       "<style scoped>\n",
       "    .dataframe tbody tr th:only-of-type {\n",
       "        vertical-align: middle;\n",
       "    }\n",
       "\n",
       "    .dataframe tbody tr th {\n",
       "        vertical-align: top;\n",
       "    }\n",
       "\n",
       "    .dataframe thead th {\n",
       "        text-align: right;\n",
       "    }\n",
       "</style>\n",
       "<table border=\"1\" class=\"dataframe\">\n",
       "  <thead>\n",
       "    <tr style=\"text-align: right;\">\n",
       "      <th></th>\n",
       "      <th>Número do cadastro</th>\n",
       "      <th>Nome do usuário de água</th>\n",
       "      <th>Data de início do cadastro</th>\n",
       "      <th>Data de saída do processo</th>\n",
       "    </tr>\n",
       "  </thead>\n",
       "  <tbody>\n",
       "    <tr>\n",
       "      <th>8</th>\n",
       "      <td>2020/012.232</td>\n",
       "      <td>VALE DO TURVO HIDRELÉTRICA LTDA</td>\n",
       "      <td>2020-07-22</td>\n",
       "      <td>2020-07-22</td>\n",
       "    </tr>\n",
       "    <tr>\n",
       "      <th>15</th>\n",
       "      <td>2020/010.778</td>\n",
       "      <td>VALE DO TURVO HIDRELÉTRICA LTDA</td>\n",
       "      <td>2020-06-29</td>\n",
       "      <td>2020-07-21</td>\n",
       "    </tr>\n",
       "    <tr>\n",
       "      <th>91</th>\n",
       "      <td>2019/001.159</td>\n",
       "      <td>Enel Brasil S.A</td>\n",
       "      <td>2019-01-23</td>\n",
       "      <td>2020-09-08</td>\n",
       "    </tr>\n",
       "    <tr>\n",
       "      <th>183</th>\n",
       "      <td>2017/028.636</td>\n",
       "      <td>CENTRAL GERADORA HIDRELÉTRICA FORQUILHA LTDA.</td>\n",
       "      <td>2017-09-09</td>\n",
       "      <td>2020-09-11</td>\n",
       "    </tr>\n",
       "  </tbody>\n",
       "</table>\n",
       "</div>"
      ],
      "text/plain": [
       "    Número do cadastro                        Nome do usuário de água  \\\n",
       "8         2020/012.232                VALE DO TURVO HIDRELÉTRICA LTDA   \n",
       "15        2020/010.778                VALE DO TURVO HIDRELÉTRICA LTDA   \n",
       "91        2019/001.159                                Enel Brasil S.A   \n",
       "183       2017/028.636  CENTRAL GERADORA HIDRELÉTRICA FORQUILHA LTDA.   \n",
       "\n",
       "    Data de início do cadastro Data de saída do processo  \n",
       "8                   2020-07-22                2020-07-22  \n",
       "15                  2020-06-29                2020-07-21  \n",
       "91                  2019-01-23                2020-09-08  \n",
       "183                 2017-09-09                2020-09-11  "
      ]
     },
     "execution_count": 23,
     "metadata": {},
     "output_type": "execute_result"
    }
   ],
   "source": [
    "aguardando = df_filtrado[df_filtrado['Status'] == 'Aguardando análise'][['Número do cadastro', 'Nome do usuário de água', 'Data de início do cadastro', 'Data de saída do processo']]\n",
    "aguardando['Data de saída do processo'] = pd.to_datetime(aguardando['Data de saída do processo'], dayfirst=True)\n",
    "aguardando['Data de início do cadastro'] = pd.to_datetime(aguardando['Data de início do cadastro'], dayfirst=True)\n",
    "aguardando.sort_values('Data de saída do processo')\n",
    "aguardando.to_csv('aguardando_analise.csv', index=False)\n",
    "aguardando"
   ]
  },
  {
   "cell_type": "code",
   "execution_count": 24,
   "metadata": {},
   "outputs": [
    {
     "data": {
      "text/html": [
       "<div>\n",
       "<style scoped>\n",
       "    .dataframe tbody tr th:only-of-type {\n",
       "        vertical-align: middle;\n",
       "    }\n",
       "\n",
       "    .dataframe tbody tr th {\n",
       "        vertical-align: top;\n",
       "    }\n",
       "\n",
       "    .dataframe thead th {\n",
       "        text-align: right;\n",
       "    }\n",
       "</style>\n",
       "<table border=\"1\" class=\"dataframe\">\n",
       "  <thead>\n",
       "    <tr style=\"text-align: right;\">\n",
       "      <th></th>\n",
       "      <th>Número do cadastro</th>\n",
       "      <th>Nome do usuário de água</th>\n",
       "      <th>Data de início do cadastro</th>\n",
       "      <th>Data de saída do processo</th>\n",
       "    </tr>\n",
       "  </thead>\n",
       "  <tbody>\n",
       "  </tbody>\n",
       "</table>\n",
       "</div>"
      ],
      "text/plain": [
       "Empty DataFrame\n",
       "Columns: [Número do cadastro, Nome do usuário de água, Data de início do cadastro, Data de saída do processo]\n",
       "Index: []"
      ]
     },
     "execution_count": 24,
     "metadata": {},
     "output_type": "execute_result"
    }
   ],
   "source": [
    "aguardando = df_filtrado[df_filtrado['Status'] == 'Em análise'][['Número do cadastro', 'Nome do usuário de água', 'Data de início do cadastro', 'Data de saída do processo']]\n",
    "aguardando['Data de saída do processo'] = pd.to_datetime(aguardando['Data de saída do processo'], dayfirst=True)\n",
    "aguardando['Data de início do cadastro'] = pd.to_datetime(aguardando['Data de início do cadastro'], dayfirst=True)\n",
    "aguardando.sort_values('Data de saída do processo')\n",
    "aguardando.to_csv('em_analise.csv', index=False)\n",
    "aguardando"
   ]
  },
  {
   "cell_type": "code",
   "execution_count": 25,
   "metadata": {},
   "outputs": [],
   "source": [
    "shp_path = \"estados_2010.shp\"\n",
    "#sf = shp.Reader(shp_path)"
   ]
  },
  {
   "cell_type": "code",
   "execution_count": 26,
   "metadata": {},
   "outputs": [],
   "source": [
    "bacias_path = \"Bacia_Hidrografica.shp\"\n",
    "bacias = geopandas.read_file(bacias_path, )"
   ]
  },
  {
   "cell_type": "code",
   "execution_count": 27,
   "metadata": {},
   "outputs": [],
   "source": [
    "#bacias.head()"
   ]
  },
  {
   "cell_type": "code",
   "execution_count": 28,
   "metadata": {},
   "outputs": [],
   "source": [
    "estados = geopandas.read_file(shp_path)"
   ]
  },
  {
   "cell_type": "code",
   "execution_count": 29,
   "metadata": {},
   "outputs": [],
   "source": [
    "#sf.records()[22]"
   ]
  },
  {
   "cell_type": "code",
   "execution_count": 30,
   "metadata": {},
   "outputs": [],
   "source": [
    "def plot_shape(idt, ax, sf):\n",
    "    shape_ex = sf.shape(idt)\n",
    "    x_lon = np.zeros((len(shape_ex.points),1))\n",
    "    y_lat = np.zeros((len(shape_ex.points),1))\n",
    "    for ip in range(len(shape_ex.points)):\n",
    "        x_lon[ip] = shape_ex.points[ip][0]\n",
    "        y_lat[ip] = shape_ex.points[ip][1]\n",
    "    ax.plot(x_lon,y_lat,c='gray') \n",
    "    x0 = np.mean(x_lon)\n",
    "    y0 = np.mean(y_lat)"
   ]
  },
  {
   "cell_type": "code",
   "execution_count": 31,
   "metadata": {},
   "outputs": [],
   "source": [
    "pie_dict = {}\n",
    "for s in u_status:\n",
    "    ns = sum(df_filtrado['Status'] == s)\n",
    "    if ns > 0:\n",
    "        pie_dict[s] = ns"
   ]
  },
  {
   "cell_type": "code",
   "execution_count": 32,
   "metadata": {},
   "outputs": [],
   "source": [
    "def make_autopct(values):\n",
    "    def my_autopct(pct):\n",
    "        total = sum(values)\n",
    "        val = int(round(pct*total/100.0))\n",
    "        return '{p:.2f}%  ({v:d})'.format(p=pct,v=val)\n",
    "    return my_autopct"
   ]
  },
  {
   "cell_type": "code",
   "execution_count": 33,
   "metadata": {},
   "outputs": [
    {
     "data": {
      "image/png": "[encoded data removed]",
      "text/plain": [
       "<Figure size 1080x720 with 2 Axes>"
      ]
     },
     "metadata": {},
     "output_type": "display_data"
    }
   ],
   "source": [
    "plt.rcParams['figure.facecolor'] = 'white'\n",
    "fig, (ax1, ax2) = plt.subplots(1, 2,figsize=(15,10), gridspec_kw={'width_ratios': [1, 0.84]})\n",
    "#fig.suptitle('Processos de hidrelétricas do SIOUT', size=16)\n",
    "ax2.pie(pie_dict.values(), autopct=make_autopct(pie_dict.values()), labels=pie_dict.keys())\n",
    "#plot_shape(22, ax1, sf)\n",
    "estados[estados['sigla'] == 'RS'].plot(color='silver', ax=ax1, alpha=1)\n",
    "#bacias.plot(edgecolor='black', color='gray', ax=ax1, alpha=0.1)\n",
    "for s in u_status:\n",
    "    f = df_filtrado['Status'] == s\n",
    "    y, x = df_filtrado[f]['Latitude'].values, df_filtrado[f]['Longitude'].values\n",
    "    x, y = [float(i.replace(',','.')) for i in x], [float(i.replace(',','.')) for i in y]\n",
    "    ax1.scatter(x, y, label = s, marker='x')\n",
    "ax1.axis('scaled')\n",
    "ax1.set_title('Mapa de distribuição')\n",
    "ax2.set_title('Distrubuição por STATUS - Total {}'.format(n_proc))\n",
    "ax1.legend()\n",
    "ax1.grid()\n",
    "fig.tight_layout()\n",
    "plt.savefig('Status', bbox_inches='tight', transparent=False)\n",
    "plt.show()"
   ]
  },
  {
   "cell_type": "code",
   "execution_count": 34,
   "metadata": {},
   "outputs": [],
   "source": [
    "doc = KML.Document()"
   ]
  },
  {
   "cell_type": "code",
   "execution_count": 35,
   "metadata": {},
   "outputs": [],
   "source": [
    "icons = {\n",
    "    'verde':'http://maps.google.com/mapfiles/kml/pushpin/grn-pushpin.png',\n",
    "    'amarelo':'http://maps.google.com/mapfiles/kml/pushpin/ylw-pushpin.png',\n",
    "    'vermelho':'http://maps.google.com/mapfiles/kml/pushpin/red-pushpin.png'\n",
    "}"
   ]
  },
  {
   "cell_type": "code",
   "execution_count": 36,
   "metadata": {},
   "outputs": [],
   "source": [
    "for color in icons:\n",
    "    \n",
    "    s = KML.Style(\n",
    "            KML.IconStyle(\n",
    "                KML.scale(1.2),\n",
    "                KML.Icon(\n",
    "                    KML.href(icons[color])\n",
    "                ),\n",
    "            ),\n",
    "            id=color,\n",
    "        )\n",
    "    \n",
    "    doc.append(s)"
   ]
  },
  {
   "cell_type": "code",
   "execution_count": 37,
   "metadata": {},
   "outputs": [],
   "source": [
    "fld_ag_doc = KML.Folder(KML.name('Aguardando formalização de documentos'))\n",
    "fld_ag_an = KML.Folder(KML.name('Aguardando análise'))\n",
    "fld_ag_alt = KML.Folder(KML.name('Aguardando alterações de dados inconsistentes'))\n",
    "fld_an = KML.Folder(KML.name('Em análise'))\n",
    "fld_conc = KML.Folder(KML.name('Concedida'))\n",
    "fld_ind = KML.Folder(KML.name('Indeferida'))"
   ]
  },
  {
   "cell_type": "code",
   "execution_count": 38,
   "metadata": {},
   "outputs": [],
   "source": [
    "for index, row in df_filtrado.iterrows():\n",
    "    nome=row['Nome']\n",
    "    name = row['Número do cadastro']\n",
    "    usuario = row['Nome do usuário de água']\n",
    "    status = row['Status']\n",
    "    corpo_hidrico = row['Corpo Hídrico']\n",
    "    municipio = row['Município']\n",
    "    description = '''\n",
    "Processo: {}\n",
    "Usuario: {}\n",
    "Status: {}\n",
    "Municipio: {}\n",
    "Corpo Hidrico: {}\n",
    "    '''.format(name, usuario, status, municipio, corpo_hidrico)\n",
    "    long = row['Latitude'].replace(',','.')\n",
    "    lat = row['Longitude'].replace(',','.')\n",
    "    coordinates = lat+','+long\n",
    "    \n",
    "    if status == 'Concedida':\n",
    "        style = '#verde'\n",
    "    elif status == 'Indeferida':\n",
    "        style = '#vermelho'\n",
    "    else:\n",
    "        style = '#amarelo'\n",
    "    \n",
    "    p = KML.Placemark(\n",
    "        KML.name(nome),\n",
    "        KML.Point(KML.coordinates(coordinates)),\n",
    "        KML.description(description),\n",
    "        KML.styleUrl(style))\n",
    "    \n",
    "    if status == 'Aguardando formalização de documentos':\n",
    "        fld_ag_doc.append(p)\n",
    "    elif status == 'Aguardando análise':\n",
    "        fld_ag_an.append(p)\n",
    "    elif status == 'Aguardando alterações de dados inconsistentes':\n",
    "        fld_ag_alt.append(p)\n",
    "    elif status == 'Em análise':\n",
    "        fld_an.append(p)\n",
    "    elif status == 'Concedida':\n",
    "        fld_conc.append(p)\n",
    "    elif status == 'Indeferida':\n",
    "        fld_ind.append(p)"
   ]
  },
  {
   "cell_type": "code",
   "execution_count": 39,
   "metadata": {},
   "outputs": [],
   "source": [
    "doc.append(fld_ag_doc)\n",
    "doc.append(fld_ag_an)\n",
    "doc.append(fld_ag_alt)\n",
    "doc.append(fld_an)\n",
    "doc.append(fld_conc)\n",
    "doc.append(fld_ind)"
   ]
  },
  {
   "cell_type": "code",
   "execution_count": 40,
   "metadata": {},
   "outputs": [],
   "source": [
    "kml_file_path = 'hidreletricas_SIOUT.kml'"
   ]
  },
  {
   "cell_type": "code",
   "execution_count": 41,
   "metadata": {},
   "outputs": [],
   "source": [
    "kml_str = etree.tostring(doc, pretty_print=True).decode('utf-8')"
   ]
  },
  {
   "cell_type": "code",
   "execution_count": 42,
   "metadata": {},
   "outputs": [],
   "source": [
    "f = open(kml_file_path, \"w\")\n",
    "f.write(kml_str)\n",
    "f.close()"
   ]
  }
 ],
 "metadata": {
  "kernelspec": {
   "display_name": "Python 3",
   "language": "python",
   "name": "python3"
  },
  "language_info": {
   "codemirror_mode": {
    "name": "ipython",
    "version": 3
   },
   "file_extension": ".py",
   "mimetype": "text/x-python",
   "name": "python",
   "nbconvert_exporter": "python",
   "pygments_lexer": "ipython3",
   "version": "3.7.7"
  }
 },
 "nbformat": 4,
 "nbformat_minor": 4
}
