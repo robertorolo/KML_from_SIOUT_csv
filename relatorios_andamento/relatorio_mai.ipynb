{
 "cells": [
  {
   "cell_type": "code",
   "execution_count": 1,
   "metadata": {},
   "outputs": [],
   "source": [
    "import pandas as pd\n",
    "from pykml.factory import KML_ElementMaker as KML\n",
    "from lxml import etree\n",
    "import matplotlib.pyplot as plt\n",
    "import numpy as np\n",
    "import geopandas"
   ]
  },
  {
   "cell_type": "code",
   "execution_count": 2,
   "metadata": {},
   "outputs": [],
   "source": [
    "file_name = 'csv/mai.csv'"
   ]
  },
  {
   "cell_type": "code",
   "execution_count": 3,
   "metadata": {},
   "outputs": [],
   "source": [
    "df = pd.read_csv(filepath_or_buffer=file_name, sep=';')"
   ]
  },
  {
   "cell_type": "code",
   "execution_count": 4,
   "metadata": {},
   "outputs": [
    {
     "data": {
      "text/html": [
       "<div>\n",
       "<style scoped>\n",
       "    .dataframe tbody tr th:only-of-type {\n",
       "        vertical-align: middle;\n",
       "    }\n",
       "\n",
       "    .dataframe tbody tr th {\n",
       "        vertical-align: top;\n",
       "    }\n",
       "\n",
       "    .dataframe thead th {\n",
       "        text-align: right;\n",
       "    }\n",
       "</style>\n",
       "<table border=\"1\" class=\"dataframe\">\n",
       "  <thead>\n",
       "    <tr style=\"text-align: right;\">\n",
       "      <th></th>\n",
       "      <th>AHE</th>\n",
       "      <th>Número do cadastro</th>\n",
       "      <th>Número da portaria</th>\n",
       "      <th>Nome do usuário de água</th>\n",
       "      <th>CPF/CNPJ</th>\n",
       "      <th>Natureza da intervenção</th>\n",
       "      <th>Tipo da Fonte de Captação</th>\n",
       "      <th>Tipo de Intervenção</th>\n",
       "      <th>Classificação</th>\n",
       "      <th>Status</th>\n",
       "      <th>...</th>\n",
       "      <th>Nº da licença</th>\n",
       "      <th>Nome do responsável técnico</th>\n",
       "      <th>CPF do responsável técnico</th>\n",
       "      <th>Formação do responsável técnico</th>\n",
       "      <th>Número da ART do responsável técnico</th>\n",
       "      <th>Nome da Geometria</th>\n",
       "      <th>Latitude</th>\n",
       "      <th>Longitude</th>\n",
       "      <th>Latitude (ponto final)</th>\n",
       "      <th>Longitude (ponto final)</th>\n",
       "    </tr>\n",
       "  </thead>\n",
       "  <tbody>\n",
       "    <tr>\n",
       "      <th>0</th>\n",
       "      <td>NaN</td>\n",
       "      <td>2020/006.741</td>\n",
       "      <td>-</td>\n",
       "      <td>CONSTRUNÍVEL ENERGIAS RENOVÁVEIS LTDA</td>\n",
       "      <td>16.456.838/0001-24</td>\n",
       "      <td>Água Superficial</td>\n",
       "      <td>Barragem de nível</td>\n",
       "      <td>Cadastro apenas da barragem</td>\n",
       "      <td>Reserva de disponibilidade hídrica</td>\n",
       "      <td>Aguardando pagamento da guia</td>\n",
       "      <td>...</td>\n",
       "      <td>-</td>\n",
       "      <td>Marcos Coradi Favero</td>\n",
       "      <td>068.835.179-44</td>\n",
       "      <td>Engenharia Civil</td>\n",
       "      <td>-</td>\n",
       "      <td>Ponto central do barramento</td>\n",
       "      <td>-51,2448983</td>\n",
       "      <td>-27,80993714</td>\n",
       "      <td>-</td>\n",
       "      <td>-</td>\n",
       "    </tr>\n",
       "    <tr>\n",
       "      <th>1</th>\n",
       "      <td>Ferradura</td>\n",
       "      <td>2020/005.099</td>\n",
       "      <td>O-000.870/2020</td>\n",
       "      <td>BT GERADORA DE ENERGIA ELETRICA S.A.</td>\n",
       "      <td>03.149.173/0001-64</td>\n",
       "      <td>Água Superficial</td>\n",
       "      <td>Barragem de nível</td>\n",
       "      <td>Cadastro apenas da barragem</td>\n",
       "      <td>Outorga</td>\n",
       "      <td>Concedida</td>\n",
       "      <td>...</td>\n",
       "      <td>-</td>\n",
       "      <td>Karl Rischbieter</td>\n",
       "      <td>003.791.409-00</td>\n",
       "      <td>Engenharia Elétrica</td>\n",
       "      <td>2102702-0</td>\n",
       "      <td>Ponto 1</td>\n",
       "      <td>-53,5789</td>\n",
       "      <td>-27,5612</td>\n",
       "      <td>-</td>\n",
       "      <td>-</td>\n",
       "    </tr>\n",
       "    <tr>\n",
       "      <th>2</th>\n",
       "      <td>NaN</td>\n",
       "      <td>2020/002.866</td>\n",
       "      <td>-</td>\n",
       "      <td>LINHA ONZE OESTE ENERGIA LTDA</td>\n",
       "      <td>27.059.624/0001-30</td>\n",
       "      <td>Água Superficial</td>\n",
       "      <td>Barragem de nível</td>\n",
       "      <td>Cadastro apenas da barragem</td>\n",
       "      <td>Cadastro</td>\n",
       "      <td>Aguardando formalização de documentos</td>\n",
       "      <td>...</td>\n",
       "      <td>-</td>\n",
       "      <td>Daniel Zonta</td>\n",
       "      <td>008.515.139-48</td>\n",
       "      <td>Engenharia Civil</td>\n",
       "      <td>-</td>\n",
       "      <td>Ponto 1</td>\n",
       "      <td>-54,00455002</td>\n",
       "      <td>-28,35111244</td>\n",
       "      <td>-</td>\n",
       "      <td>-</td>\n",
       "    </tr>\n",
       "    <tr>\n",
       "      <th>3</th>\n",
       "      <td>NaN</td>\n",
       "      <td>2020/002.683</td>\n",
       "      <td>-</td>\n",
       "      <td>Cooperativa de Geração de Energia e Desenvolvi...</td>\n",
       "      <td>08.290.060/0001-06</td>\n",
       "      <td>Água Superficial</td>\n",
       "      <td>Barragem de nível</td>\n",
       "      <td>Cadastro apenas da barragem</td>\n",
       "      <td>Cadastro</td>\n",
       "      <td>Aguardando formalização de documentos</td>\n",
       "      <td>...</td>\n",
       "      <td>-</td>\n",
       "      <td>Karl Rischbieter</td>\n",
       "      <td>003.791.409-00</td>\n",
       "      <td>Engenharia Elétrica</td>\n",
       "      <td>9335010033</td>\n",
       "      <td>Ponto 1</td>\n",
       "      <td>-53,97013076</td>\n",
       "      <td>-27,96124919</td>\n",
       "      <td>-</td>\n",
       "      <td>-</td>\n",
       "    </tr>\n",
       "    <tr>\n",
       "      <th>4</th>\n",
       "      <td>NaN</td>\n",
       "      <td>2020/001.754</td>\n",
       "      <td>-</td>\n",
       "      <td>BORTOLON AGROCOMERCIAL EIRELI</td>\n",
       "      <td>00.376.956/0001-92</td>\n",
       "      <td>Água Superficial</td>\n",
       "      <td>Barragem de acumulação</td>\n",
       "      <td>Cadastro apenas da barragem</td>\n",
       "      <td>Cadastro</td>\n",
       "      <td>Aguardando análise</td>\n",
       "      <td>...</td>\n",
       "      <td>-</td>\n",
       "      <td>Edesio Alvaro Bortolon</td>\n",
       "      <td>385.825.890-34</td>\n",
       "      <td>Engenharia Civil</td>\n",
       "      <td>8967823</td>\n",
       "      <td>Ponto 1</td>\n",
       "      <td>-50,85597014</td>\n",
       "      <td>-28,29908214</td>\n",
       "      <td>-</td>\n",
       "      <td>-</td>\n",
       "    </tr>\n",
       "  </tbody>\n",
       "</table>\n",
       "<p>5 rows × 55 columns</p>\n",
       "</div>"
      ],
      "text/plain": [
       "         AHE Número do cadastro Número da portaria  \\\n",
       "0        NaN       2020/006.741                  -   \n",
       "1  Ferradura       2020/005.099     O-000.870/2020   \n",
       "2        NaN       2020/002.866                  -   \n",
       "3        NaN       2020/002.683                  -   \n",
       "4        NaN       2020/001.754                  -   \n",
       "\n",
       "                             Nome do usuário de água            CPF/CNPJ  \\\n",
       "0              CONSTRUNÍVEL ENERGIAS RENOVÁVEIS LTDA  16.456.838/0001-24   \n",
       "1               BT GERADORA DE ENERGIA ELETRICA S.A.  03.149.173/0001-64   \n",
       "2                      LINHA ONZE OESTE ENERGIA LTDA  27.059.624/0001-30   \n",
       "3  Cooperativa de Geração de Energia e Desenvolvi...  08.290.060/0001-06   \n",
       "4                      BORTOLON AGROCOMERCIAL EIRELI  00.376.956/0001-92   \n",
       "\n",
       "  Natureza da intervenção Tipo da Fonte de Captação  \\\n",
       "0        Água Superficial         Barragem de nível   \n",
       "1        Água Superficial         Barragem de nível   \n",
       "2        Água Superficial         Barragem de nível   \n",
       "3        Água Superficial         Barragem de nível   \n",
       "4        Água Superficial    Barragem de acumulação   \n",
       "\n",
       "           Tipo de Intervenção                       Classificação  \\\n",
       "0  Cadastro apenas da barragem  Reserva de disponibilidade hídrica   \n",
       "1  Cadastro apenas da barragem                             Outorga   \n",
       "2  Cadastro apenas da barragem                            Cadastro   \n",
       "3  Cadastro apenas da barragem                            Cadastro   \n",
       "4  Cadastro apenas da barragem                            Cadastro   \n",
       "\n",
       "                                  Status  ... Nº da licença  \\\n",
       "0           Aguardando pagamento da guia  ...             -   \n",
       "1                              Concedida  ...             -   \n",
       "2  Aguardando formalização de documentos  ...             -   \n",
       "3  Aguardando formalização de documentos  ...             -   \n",
       "4                     Aguardando análise  ...             -   \n",
       "\n",
       "  Nome do responsável técnico CPF do responsável técnico  \\\n",
       "0        Marcos Coradi Favero             068.835.179-44   \n",
       "1            Karl Rischbieter             003.791.409-00   \n",
       "2                Daniel Zonta             008.515.139-48   \n",
       "3            Karl Rischbieter             003.791.409-00   \n",
       "4      Edesio Alvaro Bortolon             385.825.890-34   \n",
       "\n",
       "  Formação do responsável técnico Número da ART do responsável técnico  \\\n",
       "0                Engenharia Civil                                    -   \n",
       "1             Engenharia Elétrica                            2102702-0   \n",
       "2                Engenharia Civil                                    -   \n",
       "3             Engenharia Elétrica                           9335010033   \n",
       "4                Engenharia Civil                              8967823   \n",
       "\n",
       "             Nome da Geometria      Latitude     Longitude  \\\n",
       "0  Ponto central do barramento   -51,2448983  -27,80993714   \n",
       "1                      Ponto 1      -53,5789      -27,5612   \n",
       "2                      Ponto 1  -54,00455002  -28,35111244   \n",
       "3                      Ponto 1  -53,97013076  -27,96124919   \n",
       "4                      Ponto 1  -50,85597014  -28,29908214   \n",
       "\n",
       "  Latitude (ponto final) Longitude (ponto final)  \n",
       "0                      -                       -  \n",
       "1                      -                       -  \n",
       "2                      -                       -  \n",
       "3                      -                       -  \n",
       "4                      -                       -  \n",
       "\n",
       "[5 rows x 55 columns]"
      ]
     },
     "execution_count": 4,
     "metadata": {},
     "output_type": "execute_result"
    }
   ],
   "source": [
    "df.head()"
   ]
  },
  {
   "cell_type": "code",
   "execution_count": 5,
   "metadata": {},
   "outputs": [],
   "source": [
    "#filtro_intervencao = df['Tipo de Intervenção'] == 'Cadastro apenas da barragem'\n",
    "filtro_status1 = df['Status'] == 'Aguardando análise'\n",
    "filtro_status2 = df['Status'] == 'Aguardando alterações de dados inconsistentes'\n",
    "filtro_status3 = df['Status'] == 'Concedida'\n",
    "filtro_status4 = df['Status'] == 'Indeferida'\n",
    "filtro_status5 = df['Status'] == 'Em análise'"
   ]
  },
  {
   "cell_type": "code",
   "execution_count": 6,
   "metadata": {},
   "outputs": [],
   "source": [
    "u_status = ['Concedida', 'Indeferida', 'Em análise', 'Aguardando análise', 'Aguardando alterações de dados inconsistentes']"
   ]
  },
  {
   "cell_type": "code",
   "execution_count": 7,
   "metadata": {},
   "outputs": [],
   "source": [
    "df = df[filtro_status1 | filtro_status2 | filtro_status3 | filtro_status4 | filtro_status5]"
   ]
  },
  {
   "cell_type": "code",
   "execution_count": 8,
   "metadata": {},
   "outputs": [
    {
     "data": {
      "text/plain": [
       "(81, 55)"
      ]
     },
     "execution_count": 8,
     "metadata": {},
     "output_type": "execute_result"
    }
   ],
   "source": [
    "df.shape"
   ]
  },
  {
   "cell_type": "code",
   "execution_count": 9,
   "metadata": {},
   "outputs": [],
   "source": [
    "shp_path = \"estados_2010.shp\""
   ]
  },
  {
   "cell_type": "code",
   "execution_count": 10,
   "metadata": {},
   "outputs": [],
   "source": [
    "estados = geopandas.read_file(shp_path)"
   ]
  },
  {
   "cell_type": "code",
   "execution_count": 11,
   "metadata": {},
   "outputs": [],
   "source": [
    "pie_dict = {}\n",
    "for s in u_status:\n",
    "    ns = sum(df['Status'] == s)\n",
    "    pie_dict[s] = ns"
   ]
  },
  {
   "cell_type": "code",
   "execution_count": 12,
   "metadata": {},
   "outputs": [],
   "source": [
    "def make_autopct(values):\n",
    "    def my_autopct(pct):\n",
    "        total = sum(values)\n",
    "        val = int(round(pct*total/100.0))\n",
    "        return '{p:.2f}%  ({v:d})'.format(p=pct,v=val)\n",
    "    return my_autopct"
   ]
  },
  {
   "cell_type": "code",
   "execution_count": 13,
   "metadata": {},
   "outputs": [
    {
     "data": {
      "image/png": "[encoded data removed]",
      "text/plain": [
       "<Figure size 1440x1080 with 2 Axes>"
      ]
     },
     "metadata": {
      "needs_background": "light"
     },
     "output_type": "display_data"
    }
   ],
   "source": [
    "fig, (ax1, ax2) = plt.subplots(1, 2, figsize=(20,15))\n",
    "ax2.pie(pie_dict.values(), autopct=make_autopct(pie_dict.values()), labels=pie_dict.keys())\n",
    "#plot_shape(22, ax1, sf)\n",
    "estados[estados['sigla'] == 'RS'].plot(color='gray', ax=ax1, alpha=0.2)\n",
    "#bacias.plot(edgecolor='black', color='gray', ax=ax1, alpha=0.1)\n",
    "for s in u_status:\n",
    "    f = df['Status'] == s\n",
    "    x, y = df[f]['Latitude'].values, df[f]['Longitude'].values\n",
    "    x, y = [float(i.replace(',','.')) for i in x], [float(i.replace(',','.')) for i in y]\n",
    "    ax1.scatter(x, y, label = s, marker='x')\n",
    "ax1.axis('scaled')\n",
    "#fig.suptitle('Processos em janeiro - Total {}'.format(df.shape[0]))\n",
    "#ax2.legend(loc='upper right')\n",
    "plt.savefig('05_Status_mai', bbox_inches='tight')"
   ]
  },
  {
   "cell_type": "code",
   "execution_count": null,
   "metadata": {},
   "outputs": [],
   "source": []
  },
  {
   "cell_type": "code",
   "execution_count": null,
   "metadata": {},
   "outputs": [],
   "source": []
  }
 ],
 "metadata": {
  "kernelspec": {
   "display_name": "Python 3",
   "language": "python",
   "name": "python3"
  },
  "language_info": {
   "codemirror_mode": {
    "name": "ipython",
    "version": 3
   },
   "file_extension": ".py",
   "mimetype": "text/x-python",
   "name": "python",
   "nbconvert_exporter": "python",
   "pygments_lexer": "ipython3",
   "version": "3.7.7"
  }
 },
 "nbformat": 4,
 "nbformat_minor": 4
}
